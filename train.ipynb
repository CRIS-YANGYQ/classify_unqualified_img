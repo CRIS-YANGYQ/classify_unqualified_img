{
 "cells": [
  {
   "cell_type": "markdown",
   "metadata": {},
   "source": [
    "## Copy file"
   ]
  },
  {
   "cell_type": "code",
   "execution_count": 1,
   "metadata": {},
   "outputs": [],
   "source": [
    "import os\n",
    "import shutil\n",
    "from tqdm import tqdm\n",
    "\n",
    "def copy_files_with_progress(src_dir, dst_dir):\n",
    "    \"\"\"\n",
    "    拷贝src_dir目录下的所有文件（包括子目录的文件）到dst_dir目录，并显示进度条。\n",
    "\n",
    "    Args:\n",
    "        src_dir (str): 源目录路径。\n",
    "        dst_dir (str): 目标目录路径。\n",
    "    \"\"\"\n",
    "    # 检查目标目录是否存在，不存在则创建\n",
    "    if not os.path.exists(dst_dir):\n",
    "        os.makedirs(dst_dir)\n",
    "\n",
    "    # 获取src_dir中所有文件的完整路径列表\n",
    "    files_to_copy = []\n",
    "    for root, _, files in os.walk(src_dir):\n",
    "        for file in files:\n",
    "            # 构建每个文件的完整路径\n",
    "            full_file_path = os.path.join(root, file)\n",
    "            files_to_copy.append(full_file_path)\n",
    "\n",
    "    # 拷贝文件并显示进度条\n",
    "    for file_path in tqdm(files_to_copy, desc=\"Copying files\"):\n",
    "        # # 计算相对路径\n",
    "        # rel_path = os.path.relpath(file_path, src_dir)\n",
    "        # # 目标文件的完整路径\n",
    "        # dst_file_path = os.path.join(dst_dir, rel_path)\n",
    "        \n",
    "        # # 创建目标文件所在的目录\n",
    "        # os.makedirs(os.path.dirname(dst_file_path), exist_ok=True)\n",
    "\n",
    "        # 拷贝文件\n",
    "        shutil.copy2(file_path, os.path.join(dst_dir, os.path.basename(file_path)))\n",
    "\n",
    "# 示例用法：\n",
    "# copy_files_with_progress(\"/path/to/source\", \"/path/to/destination\")\n",
    "\n"
   ]
  },
  {
   "cell_type": "code",
   "execution_count": 2,
   "metadata": {},
   "outputs": [
    {
     "name": "stderr",
     "output_type": "stream",
     "text": [
      "Copying files: 100%|██████████| 29447/29447 [08:57<00:00, 54.79it/s]\n"
     ]
    }
   ],
   "source": [
    "import os\n",
    "\n",
    "raw_dataset_dir = \"/comp_robot/yangyuqin/workplace/CountingDataManage/visual_search_api/img_group_backup\"\n",
    "unqualified_dataset_dir = \"/comp_robot/yangyuqin/workplace/CountingDataManage/visual_search_api/img_output\"\n",
    "data_dst_dir = \"/comp_robot/yangyuqin/workplace/CountingDataManage/Classify_Unqualified_Model/data/raw\"\n",
    "\n",
    "copy_files_with_progress(raw_dataset_dir, data_dst_dir)"
   ]
  },
  {
   "cell_type": "markdown",
   "metadata": {},
   "source": [
    "## Get unqualified file basename"
   ]
  },
  {
   "cell_type": "code",
   "execution_count": 2,
   "metadata": {},
   "outputs": [],
   "source": [
    "def get_file_basename(src_dir):\n",
    "    \"\"\"\n",
    "    得到src_dir目录下所有文件的basename列表。\n",
    "\n",
    "    Args:\n",
    "        src_dir (str): 源目录路径。\n",
    "    \"\"\"\n",
    "\n",
    "    # 获取src_dir中所有文件的完整路径列表\n",
    "    target_files = set()\n",
    "    for _, _, files in os.walk(src_dir):\n",
    "        for file in files:\n",
    "            target_files.add(file)\n",
    "    return target_files\n"
   ]
  },
  {
   "cell_type": "code",
   "execution_count": 3,
   "metadata": {},
   "outputs": [],
   "source": [
    "import os\n",
    "\n",
    "qualified_dataset_dir = \"/comp_robot/yangyuqin/workplace/CountingDataManage/visual_search_api/img_output\"\n",
    "data_dst_dir = \"/comp_robot/yangyuqin/workplace/CountingDataManage/Classify_Unqualified_Model/data/raw\"\n",
    "qualified_file_basename_set = get_file_basename(qualified_dataset_dir)\n",
    "\n"
   ]
  },
  {
   "cell_type": "code",
   "execution_count": 4,
   "metadata": {},
   "outputs": [
    {
     "name": "stdout",
     "output_type": "stream",
     "text": [
      "qualified: 22649\n"
     ]
    }
   ],
   "source": [
    "print(\"qualified: {}\".format(len(qualified_file_basename_set) ))"
   ]
  },
  {
   "cell_type": "markdown",
   "metadata": {},
   "source": [
    "## Construct the dataset for training the model"
   ]
  },
  {
   "cell_type": "code",
   "execution_count": 7,
   "metadata": {},
   "outputs": [
    {
     "data": {
      "text/plain": [
       "'origin_173_002.jpg'"
      ]
     },
     "execution_count": 7,
     "metadata": {},
     "output_type": "execute_result"
    }
   ],
   "source": []
  },
  {
   "cell_type": "code",
   "execution_count": 5,
   "metadata": {},
   "outputs": [
    {
     "name": "stderr",
     "output_type": "stream",
     "text": [
      "  6%|▋         | 1908/29447 [01:36<19:12, 23.90it/s]"
     ]
    },
    {
     "name": "stdout",
     "output_type": "stream",
     "text": [
      "/comp_robot/yangyuqin/workplace/CountingDataManage/Classify_Unqualified_Model/data/raw/origin_172_059.jpg reading failed (image is None)\n"
     ]
    },
    {
     "name": "stderr",
     "output_type": "stream",
     "text": [
      " 12%|█▏        | 3548/29447 [02:58<26:53, 16.05it/s]Corrupt JPEG data: 91610 extraneous bytes before marker 0xd9\n",
      " 31%|███▏      | 9234/29447 [07:53<15:31, 21.70it/s]libpng warning: Incorrect sBIT chunk length\n",
      " 43%|████▎     | 12748/29447 [11:06<14:41, 18.95it/s]Premature end of JPEG file\n",
      " 44%|████▎     | 12860/29447 [11:12<13:12, 20.92it/s]Corrupt JPEG data: 6 extraneous bytes before marker 0xdb\n",
      " 49%|████▊     | 14327/29447 [12:29<10:00, 25.18it/s]Premature end of JPEG file\n",
      " 78%|███████▊  | 22912/29447 [19:30<04:02, 26.95it/s]libpng warning: Incorrect sBIT chunk length\n",
      " 85%|████████▌ | 25035/29447 [21:15<03:36, 20.38it/s]Corrupt JPEG data: bad Huffman code\n",
      " 87%|████████▋ | 25710/29447 [21:48<02:43, 22.86it/s]"
     ]
    },
    {
     "name": "stdout",
     "output_type": "stream",
     "text": [
      "/comp_robot/yangyuqin/workplace/CountingDataManage/Classify_Unqualified_Model/data/raw/origin_789_045.jpg reading failed (image is None)\n"
     ]
    },
    {
     "name": "stderr",
     "output_type": "stream",
     "text": [
      "100%|██████████| 29447/29447 [25:07<00:00, 19.53it/s]\n"
     ]
    }
   ],
   "source": [
    "import cv2\n",
    "import pandas as pd\n",
    "from tqdm import tqdm\n",
    "dataset_df = pd.DataFrame()\n",
    "\n",
    "sorted_data_file_list = sorted(os.listdir(data_dst_dir))\n",
    "failed_files_lst = []\n",
    "# 遍历目标目录的所有文件\n",
    "for file in tqdm(sorted_data_file_list):\n",
    "    filepath = os.path.join(data_dst_dir, file)\n",
    "    try:\n",
    "        img = cv2.imread(filepath)\n",
    "        class_name = \"Qualified\"\n",
    "        if file not in qualified_file_basename_set:\n",
    "            class_name = \"Unqualified\"\n",
    "        if img is not None:\n",
    "            # 添加新行到 DataFrame\n",
    "            new_row = pd.DataFrame({\n",
    "                'Class': [class_name], \n",
    "                'file': [filepath], \n",
    "                'width': [img.shape[1]], \n",
    "                'height': [img.shape[0]]\n",
    "            })\n",
    "            dataset_df = pd.concat([dataset_df, new_row], ignore_index=True)\n",
    "        else:\n",
    "            print(f\"{filepath} reading failed (image is None)\")\n",
    "            failed_files_lst.append(filepath)\n",
    "\n",
    "    except Exception as e:\n",
    "        print(f\"{filepath} reading failed\")\n",
    "        print(e)\n",
    "        failed_files_lst.append(filepath)\n",
    "        # raise e\n",
    "    \n",
    "\n",
    "        \n",
    "        \n"
   ]
  },
  {
   "cell_type": "code",
   "execution_count": 14,
   "metadata": {},
   "outputs": [
    {
     "data": {
      "text/plain": [
       "[]"
      ]
     },
     "execution_count": 14,
     "metadata": {},
     "output_type": "execute_result"
    }
   ],
   "source": [
    "failed_files_lst"
   ]
  },
  {
   "cell_type": "code",
   "execution_count": 9,
   "metadata": {},
   "outputs": [],
   "source": [
    "# save to parquet \n",
    "dataset_df.to_parquet('../../dataset/spider_img/parquet/dataset.parquet')\n"
   ]
  },
  {
   "cell_type": "code",
   "execution_count": 1,
   "metadata": {},
   "outputs": [],
   "source": [
    "import pandas as pd\n",
    "dataset_df = pd.read_parquet('../../dataset/spider_img/parquet/dataset.parquet')"
   ]
  },
  {
   "cell_type": "code",
   "execution_count": 2,
   "metadata": {},
   "outputs": [
    {
     "data": {
      "text/html": [
       "<div>\n",
       "<style scoped>\n",
       "    .dataframe tbody tr th:only-of-type {\n",
       "        vertical-align: middle;\n",
       "    }\n",
       "\n",
       "    .dataframe tbody tr th {\n",
       "        vertical-align: top;\n",
       "    }\n",
       "\n",
       "    .dataframe thead th {\n",
       "        text-align: right;\n",
       "    }\n",
       "</style>\n",
       "<table border=\"1\" class=\"dataframe\">\n",
       "  <thead>\n",
       "    <tr style=\"text-align: right;\">\n",
       "      <th></th>\n",
       "      <th>Class</th>\n",
       "      <th>file</th>\n",
       "      <th>width</th>\n",
       "      <th>height</th>\n",
       "    </tr>\n",
       "  </thead>\n",
       "  <tbody>\n",
       "    <tr>\n",
       "      <th>0</th>\n",
       "      <td>Qualified</td>\n",
       "      <td>/comp_robot/yangyuqin/workplace/CountingDataMa...</td>\n",
       "      <td>1024</td>\n",
       "      <td>683</td>\n",
       "    </tr>\n",
       "    <tr>\n",
       "      <th>1</th>\n",
       "      <td>Qualified</td>\n",
       "      <td>/comp_robot/yangyuqin/workplace/CountingDataMa...</td>\n",
       "      <td>1024</td>\n",
       "      <td>683</td>\n",
       "    </tr>\n",
       "    <tr>\n",
       "      <th>2</th>\n",
       "      <td>Qualified</td>\n",
       "      <td>/comp_robot/yangyuqin/workplace/CountingDataMa...</td>\n",
       "      <td>1024</td>\n",
       "      <td>768</td>\n",
       "    </tr>\n",
       "    <tr>\n",
       "      <th>3</th>\n",
       "      <td>Qualified</td>\n",
       "      <td>/comp_robot/yangyuqin/workplace/CountingDataMa...</td>\n",
       "      <td>768</td>\n",
       "      <td>1024</td>\n",
       "    </tr>\n",
       "    <tr>\n",
       "      <th>4</th>\n",
       "      <td>Qualified</td>\n",
       "      <td>/comp_robot/yangyuqin/workplace/CountingDataMa...</td>\n",
       "      <td>768</td>\n",
       "      <td>576</td>\n",
       "    </tr>\n",
       "    <tr>\n",
       "      <th>...</th>\n",
       "      <td>...</td>\n",
       "      <td>...</td>\n",
       "      <td>...</td>\n",
       "      <td>...</td>\n",
       "    </tr>\n",
       "    <tr>\n",
       "      <th>29440</th>\n",
       "      <td>Qualified</td>\n",
       "      <td>/comp_robot/yangyuqin/workplace/CountingDataMa...</td>\n",
       "      <td>900</td>\n",
       "      <td>1200</td>\n",
       "    </tr>\n",
       "    <tr>\n",
       "      <th>29441</th>\n",
       "      <td>Qualified</td>\n",
       "      <td>/comp_robot/yangyuqin/workplace/CountingDataMa...</td>\n",
       "      <td>500</td>\n",
       "      <td>375</td>\n",
       "    </tr>\n",
       "    <tr>\n",
       "      <th>29442</th>\n",
       "      <td>Qualified</td>\n",
       "      <td>/comp_robot/yangyuqin/workplace/CountingDataMa...</td>\n",
       "      <td>1045</td>\n",
       "      <td>1200</td>\n",
       "    </tr>\n",
       "    <tr>\n",
       "      <th>29443</th>\n",
       "      <td>Qualified</td>\n",
       "      <td>/comp_robot/yangyuqin/workplace/CountingDataMa...</td>\n",
       "      <td>800</td>\n",
       "      <td>533</td>\n",
       "    </tr>\n",
       "    <tr>\n",
       "      <th>29444</th>\n",
       "      <td>Qualified</td>\n",
       "      <td>/comp_robot/yangyuqin/workplace/CountingDataMa...</td>\n",
       "      <td>626</td>\n",
       "      <td>417</td>\n",
       "    </tr>\n",
       "  </tbody>\n",
       "</table>\n",
       "<p>29445 rows × 4 columns</p>\n",
       "</div>"
      ],
      "text/plain": [
       "           Class                                               file  width  \\\n",
       "0      Qualified  /comp_robot/yangyuqin/workplace/CountingDataMa...   1024   \n",
       "1      Qualified  /comp_robot/yangyuqin/workplace/CountingDataMa...   1024   \n",
       "2      Qualified  /comp_robot/yangyuqin/workplace/CountingDataMa...   1024   \n",
       "3      Qualified  /comp_robot/yangyuqin/workplace/CountingDataMa...    768   \n",
       "4      Qualified  /comp_robot/yangyuqin/workplace/CountingDataMa...    768   \n",
       "...          ...                                                ...    ...   \n",
       "29440  Qualified  /comp_robot/yangyuqin/workplace/CountingDataMa...    900   \n",
       "29441  Qualified  /comp_robot/yangyuqin/workplace/CountingDataMa...    500   \n",
       "29442  Qualified  /comp_robot/yangyuqin/workplace/CountingDataMa...   1045   \n",
       "29443  Qualified  /comp_robot/yangyuqin/workplace/CountingDataMa...    800   \n",
       "29444  Qualified  /comp_robot/yangyuqin/workplace/CountingDataMa...    626   \n",
       "\n",
       "       height  \n",
       "0         683  \n",
       "1         683  \n",
       "2         768  \n",
       "3        1024  \n",
       "4         576  \n",
       "...       ...  \n",
       "29440    1200  \n",
       "29441     375  \n",
       "29442    1200  \n",
       "29443     533  \n",
       "29444     417  \n",
       "\n",
       "[29445 rows x 4 columns]"
      ]
     },
     "execution_count": 2,
     "metadata": {},
     "output_type": "execute_result"
    }
   ],
   "source": [
    "dataset_df"
   ]
  },
  {
   "cell_type": "markdown",
   "metadata": {},
   "source": [
    "## 可视化图像宽度和高度分布"
   ]
  },
  {
   "cell_type": "code",
   "execution_count": 11,
   "metadata": {},
   "outputs": [],
   "source": [
    "import numpy as np\n",
    "import matplotlib.pyplot as plt\n",
    "from scipy.stats import gaussian_kde\n",
    "\n",
    "def visualize_image_size_distribution(df, width_col='width', height_col='height', output_file=None):\n",
    "    \"\"\"\n",
    "    可视化图像尺寸的分布情况，输出为一个文件。\n",
    "\n",
    "    Args:\n",
    "        df (pd.DataFrame): 包含图像宽度和高度的数据框。\n",
    "        width_col (str): DataFrame中表示图像宽度的列名。\n",
    "        height_col (str): DataFrame中表示图像高度的列名。\n",
    "        output_file (str): 保存输出图像的文件路径。\n",
    "    \"\"\"\n",
    "    x = df[width_col]\n",
    "    y = df[height_col]\n",
    "    \n",
    "    # 计算密度\n",
    "    xy = np.vstack([x, y])\n",
    "    z = gaussian_kde(xy)(xy)\n",
    "\n",
    "    # 按密度排序，使得密集点最后绘制\n",
    "    idx = z.argsort()\n",
    "    x, y, z = x[idx], y[idx], z[idx]\n",
    "\n",
    "    # 绘制散点图\n",
    "    plt.figure(figsize=(5, 5))\n",
    "    plt.scatter(x, y, c=z, s=5, cmap='Spectral_r')\n",
    "\n",
    "    # 设置刻度大小\n",
    "    plt.tick_params(labelsize=15)\n",
    "\n",
    "    # 设置x、y轴范围\n",
    "    xy_max = max(max(df[width_col]), max(df[height_col]))\n",
    "    plt.xlim(xmin=0, xmax=xy_max)\n",
    "    plt.ylim(ymin=0, ymax=xy_max)\n",
    "\n",
    "    # 设置坐标轴标签\n",
    "    plt.ylabel('Height', fontsize=12)\n",
    "    plt.xlabel('Width', fontsize=12)\n",
    "\n",
    "\n",
    "    # 保存图像为PDF\n",
    "    if output_file is not None:\n",
    "        plt.savefig(output_file, dpi=120, bbox_inches='tight')\n",
    "    plt.show()\n",
    "\n",
    "# 示例调用\n",
    "# visualize_image_size_distribution(dataset_df, width_col='width', height_col='height', output_file='图像尺寸分布.pdf')\n"
   ]
  },
  {
   "cell_type": "code",
   "execution_count": 12,
   "metadata": {},
   "outputs": [
    {
     "data": {
      "image/png": "[encoded data removed]",
      "text/plain": [
       "<Figure size 500x500 with 1 Axes>"
      ]
     },
     "metadata": {},
     "output_type": "display_data"
    }
   ],
   "source": [
    "visualize_image_size_distribution(dataset_df, width_col='width', height_col='height')"
   ]
  },
  {
   "cell_type": "markdown",
   "metadata": {},
   "source": [
    "## Dataloader"
   ]
  },
  {
   "cell_type": "markdown",
   "metadata": {},
   "source": [
    "### pt dataset"
   ]
  },
  {
   "cell_type": "code",
   "execution_count": 1,
   "metadata": {},
   "outputs": [
    {
     "name": "stderr",
     "output_type": "stream",
     "text": [
      "/comp_robot/yangyuqin/Anaconda3/envs/deepl2/lib/python3.8/site-packages/tqdm/auto.py:21: TqdmWarning: IProgress not found. Please update jupyter and ipywidgets. See https://ipywidgets.readthedocs.io/en/stable/user_install.html\n",
      "  from .autonotebook import tqdm as notebook_tqdm\n"
     ]
    }
   ],
   "source": [
    "import os\n",
    "import torch\n",
    "import random\n",
    "import cv2\n",
    "import pandas as pd\n",
    "from tqdm import tqdm\n",
    "from torch.utils.data import DataLoader, TensorDataset, Dataset\n",
    "from torchvision import transforms\n",
    "\n",
    "def custom_collate_fn(batch):\n",
    "    \"\"\"\n",
    "    自定义collate_fn，用于过滤掉返回None的样本。\n",
    "    \n",
    "    Args:\n",
    "        batch: 一个批次的数据，其中可能包含 (img_tensor, label) 的形式，也可能包含 None。\n",
    "    \n",
    "    Returns:\n",
    "        Valid images and labels as tensors.\n",
    "    \"\"\"\n",
    "    # 过滤掉 None 的样本\n",
    "    batch = [item for item in batch if item[0] is not None]\n",
    "    \n",
    "    if len(batch) == 0:\n",
    "        # 如果没有有效的样本，则返回空的张量\n",
    "        return torch.empty(0), torch.empty(0)\n",
    "\n",
    "    # 分别提取图像和标签\n",
    "    images, labels = zip(*batch)\n",
    "\n",
    "    # 将图像堆叠为一个批次\n",
    "    images = torch.stack(images)\n",
    "    # 将标签也转换为张量\n",
    "    labels = torch.tensor(labels)\n",
    "\n",
    "    return images, labels\n",
    "\n",
    "# 假设 train_dataset 已经加载并包含了 'image' 和 'label' 两列\n",
    "def balance_dataset(dataset, class_column='label'):\n",
    "    \"\"\"\n",
    "    通过下采样来平衡数据集中的类别比例\n",
    "    Args:\n",
    "        dataset: 需要平衡的原始数据集\n",
    "        class_column: 表示类别标签的列名（默认 'label'）\n",
    "    \n",
    "    Returns:\n",
    "        一个新的平衡数据集\n",
    "    \"\"\"\n",
    "    # 获取所有类别\n",
    "    class_0 = [i for i, sample in enumerate(dataset) if sample[1] == 0]\n",
    "    class_1 = [i for i, sample in enumerate(dataset) if sample[1] == 1]\n",
    "\n",
    "    # 获取较小类的数量\n",
    "    min_class_count = min(len(class_0), len(class_1))\n",
    "\n",
    "    # 对较大类进行下采样\n",
    "    class_0_sampled = random.sample(class_0, min_class_count)\n",
    "    class_1_sampled = random.sample(class_1, min_class_count)\n",
    "\n",
    "    # 将下采样后的索引组合起来\n",
    "    balanced_indices = class_0_sampled + class_1_sampled\n",
    "\n",
    "    # 重新洗牌以打乱顺序\n",
    "    random.shuffle(balanced_indices)\n",
    "\n",
    "    # 根据新的索引创建平衡后的数据集\n",
    "    balanced_dataset = torch.utils.data.Subset(dataset, balanced_indices)\n",
    "    \n",
    "    return balanced_dataset\n",
    "\n",
    "\n",
    "# 加载保存的训练集和测试集\n",
    "train_dataset = torch.load('../../dataset/spider_img/dataloader/train_dataset.pt')\n",
    "test_dataset = torch.load('../../dataset/spider_img/dataloader/test_dataset.pt')\n",
    "\n",
    "# 对训练集进行平衡处理\n",
    "balanced_train_dataset = balance_dataset(train_dataset)\n",
    "\n",
    "\n",
    "\n"
   ]
  },
  {
   "cell_type": "code",
   "execution_count": 2,
   "metadata": {},
   "outputs": [],
   "source": [
    "# 创建数据加载器\n",
    "train_loader = DataLoader(balanced_train_dataset, batch_size=64, shuffle=True, num_workers=4, collate_fn=custom_collate_fn)\n",
    "test_loader = DataLoader(test_dataset, batch_size=64, shuffle=False, num_workers=4, collate_fn=custom_collate_fn)"
   ]
  },
  {
   "cell_type": "code",
   "execution_count": 3,
   "metadata": {},
   "outputs": [],
   "source": [
    "import torch\n",
    "import torch.nn as nn\n",
    "import torch.optim as optim\n",
    "from torchvision import models\n",
    "\n",
    "# 定义训练函数\n",
    "def train(model, train_loader, criterion, optimizer, device):\n",
    "    model.train()\n",
    "    running_loss = 0.0\n",
    "    correct = 0\n",
    "    total = 0\n",
    "\n",
    "    for images, labels in tqdm(train_loader):\n",
    "        images, labels = images.to(device), labels.to(device)\n",
    "\n",
    "        # 清零梯度\n",
    "        optimizer.zero_grad()\n",
    "\n",
    "        # 前向传播\n",
    "        outputs = model(images)\n",
    "        loss = criterion(outputs, labels)\n",
    "\n",
    "        # 反向传播和优化\n",
    "        loss.backward()\n",
    "        optimizer.step()\n",
    "\n",
    "        # 计算损失和准确率\n",
    "        running_loss += loss.item()\n",
    "        _, predicted = outputs.max(1)\n",
    "        total += labels.size(0)\n",
    "        correct += predicted.eq(labels).sum().item()\n",
    "\n",
    "    epoch_loss = running_loss / len(train_loader)\n",
    "    accuracy = correct / total\n",
    "    print(f\"Train Loss: {epoch_loss:.4f}, Accuracy: {accuracy:.4f}\")\n",
    "\n",
    "# 定义测试函数\n",
    "def test(model, test_loader, criterion, device):\n",
    "    model.eval()\n",
    "    running_loss = 0.0\n",
    "    correct = 0\n",
    "    total = 0\n",
    "\n",
    "    with torch.no_grad():\n",
    "        for images, labels in tqdm(test_loader):\n",
    "            images, labels = images.to(device), labels.to(device)\n",
    "\n",
    "            # 前向传播\n",
    "            outputs = model(images)\n",
    "            loss = criterion(outputs, labels)\n",
    "\n",
    "            # 计算损失和准确率\n",
    "            running_loss += loss.item()\n",
    "            _, predicted = outputs.max(1)\n",
    "            total += labels.size(0)\n",
    "            correct += predicted.eq(labels).sum().item()\n",
    "\n",
    "    epoch_loss = running_loss / len(test_loader)\n",
    "    accuracy = correct / total\n",
    "    print(f\"Test Loss: {epoch_loss:.4f}, Accuracy: {accuracy:.4f}\")"
   ]
  },
  {
   "cell_type": "code",
   "execution_count": 4,
   "metadata": {},
   "outputs": [
    {
     "name": "stdout",
     "output_type": "stream",
     "text": [
      "Wed Sep 18 17:59:45 2024       \n",
      "+---------------------------------------------------------------------------------------+\n",
      "| NVIDIA-SMI 535.129.03             Driver Version: 535.129.03   CUDA Version: 12.2     |\n",
      "|-----------------------------------------+----------------------+----------------------+\n",
      "| GPU  Name                 Persistence-M | Bus-Id        Disp.A | Volatile Uncorr. ECC |\n",
      "| Fan  Temp   Perf          Pwr:Usage/Cap |         Memory-Usage | GPU-Util  Compute M. |\n",
      "|                                         |                      |               MIG M. |\n",
      "|=========================================+======================+======================|\n",
      "|   0  NVIDIA GeForce RTX 3090        On  | 00000000:4F:00.0 Off |                  N/A |\n",
      "| 30%   26C    P8              34W / 350W |  11239MiB / 24576MiB |      0%      Default |\n",
      "|                                         |                      |                  N/A |\n",
      "+-----------------------------------------+----------------------+----------------------+\n",
      "|   1  NVIDIA GeForce RTX 3090        On  | 00000000:52:00.0 Off |                  N/A |\n",
      "| 30%   26C    P8              20W / 350W |      5MiB / 24576MiB |      0%      Default |\n",
      "|                                         |                      |                  N/A |\n",
      "+-----------------------------------------+----------------------+----------------------+\n",
      "|   2  NVIDIA GeForce RTX 3090        On  | 00000000:56:00.0 Off |                  N/A |\n",
      "| 30%   30C    P8              37W / 350W |      5MiB / 24576MiB |      0%      Default |\n",
      "|                                         |                      |                  N/A |\n",
      "+-----------------------------------------+----------------------+----------------------+\n",
      "|   3  NVIDIA GeForce RTX 3090        On  | 00000000:57:00.0 Off |                  N/A |\n",
      "| 30%   26C    P8              21W / 350W |   3128MiB / 24576MiB |      0%      Default |\n",
      "|                                         |                      |                  N/A |\n",
      "+-----------------------------------------+----------------------+----------------------+\n",
      "|   4  NVIDIA GeForce RTX 3090        On  | 00000000:CE:00.0 Off |                  N/A |\n",
      "| 30%   24C    P8              24W / 350W |   7648MiB / 24576MiB |      0%      Default |\n",
      "|                                         |                      |                  N/A |\n",
      "+-----------------------------------------+----------------------+----------------------+\n",
      "|   5  NVIDIA GeForce RTX 3090        On  | 00000000:D1:00.0 Off |                  N/A |\n",
      "| 30%   36C    P2             111W / 350W |   9263MiB / 24576MiB |      0%      Default |\n",
      "|                                         |                      |                  N/A |\n",
      "+-----------------------------------------+----------------------+----------------------+\n",
      "|   6  NVIDIA GeForce RTX 3090        On  | 00000000:D5:00.0 Off |                  N/A |\n",
      "| 31%   28C    P8              31W / 350W |      5MiB / 24576MiB |      0%      Default |\n",
      "|                                         |                      |                  N/A |\n",
      "+-----------------------------------------+----------------------+----------------------+\n",
      "|   7  NVIDIA GeForce RTX 3090        On  | 00000000:D6:00.0 Off |                  N/A |\n",
      "| 30%   29C    P8              28W / 350W |   5676MiB / 24576MiB |      0%      Default |\n",
      "|                                         |                      |                  N/A |\n",
      "+-----------------------------------------+----------------------+----------------------+\n",
      "                                                                                         \n",
      "+---------------------------------------------------------------------------------------+\n",
      "| Processes:                                                                            |\n",
      "|  GPU   GI   CI        PID   Type   Process name                            GPU Memory |\n",
      "|        ID   ID                                                             Usage      |\n",
      "|=======================================================================================|\n",
      "|    0   N/A  N/A   1854786      C   python3                                    8108MiB |\n",
      "|    4   N/A  N/A   3024378      C   /opt/conda/bin/python                      7638MiB |\n",
      "|    5   N/A  N/A   2961000      C   python3                                    4740MiB |\n",
      "|    5   N/A  N/A   2972172      C   python3                                    4512MiB |\n",
      "|    7   N/A  N/A    124947      C   /opt/conda/bin/python                      5668MiB |\n",
      "+---------------------------------------------------------------------------------------+\n"
     ]
    }
   ],
   "source": [
    "!nvidia-smi\n"
   ]
  },
  {
   "cell_type": "code",
   "execution_count": 5,
   "metadata": {},
   "outputs": [],
   "source": [
    "# 检查是否有GPU可用\n",
    "device = torch.device(\"cuda:2\" if torch.cuda.is_available() else \"cpu\")\n",
    "\n",
    "# # 加载预训练的 ResNet18 模型，并进行微调\n",
    "# model = models.resnet18(pretrained=True)\n",
    "# 加载预训练的 ResNet50 模型\n",
    "model = models.resnet50(pretrained=True)\n",
    "# # 加载预训练的 VGG16 模型\n",
    "# model = models.vgg16(pretrained=True)\n",
    "# # 加载预训练的 DenseNet121 模型\n",
    "# model = models.densenet121(pretrained=True)\n",
    "# # 加载预训练的 MobileNetV2 模型\n",
    "# model = models.mobilenet_v2(pretrained=True)\n"
   ]
  },
  {
   "cell_type": "code",
   "execution_count": 6,
   "metadata": {},
   "outputs": [
    {
     "name": "stdout",
     "output_type": "stream",
     "text": [
      "Epoch 1/10:\n"
     ]
    },
    {
     "name": "stderr",
     "output_type": "stream",
     "text": [
      "100%|██████████| 170/170 [00:46<00:00,  3.66it/s]\n"
     ]
    },
    {
     "name": "stdout",
     "output_type": "stream",
     "text": [
      "Train Loss: 0.7061, Accuracy: 0.5961\n"
     ]
    },
    {
     "name": "stderr",
     "output_type": "stream",
     "text": [
      "100%|██████████| 93/93 [00:10<00:00,  8.65it/s]\n"
     ]
    },
    {
     "name": "stdout",
     "output_type": "stream",
     "text": [
      "Test Loss: 0.6091, Accuracy: 0.6490\n",
      "Epoch 2/10:\n"
     ]
    },
    {
     "name": "stderr",
     "output_type": "stream",
     "text": [
      "100%|██████████| 170/170 [00:46<00:00,  3.66it/s]\n"
     ]
    },
    {
     "name": "stdout",
     "output_type": "stream",
     "text": [
      "Train Loss: 0.6452, Accuracy: 0.6292\n"
     ]
    },
    {
     "name": "stderr",
     "output_type": "stream",
     "text": [
      "100%|██████████| 93/93 [00:10<00:00,  8.76it/s]\n"
     ]
    },
    {
     "name": "stdout",
     "output_type": "stream",
     "text": [
      "Test Loss: 0.6190, Accuracy: 0.6273\n",
      "Epoch 3/10:\n"
     ]
    },
    {
     "name": "stderr",
     "output_type": "stream",
     "text": [
      "100%|██████████| 170/170 [00:46<00:00,  3.63it/s]\n"
     ]
    },
    {
     "name": "stdout",
     "output_type": "stream",
     "text": [
      "Train Loss: 0.6093, Accuracy: 0.6691\n"
     ]
    },
    {
     "name": "stderr",
     "output_type": "stream",
     "text": [
      "100%|██████████| 93/93 [00:10<00:00,  8.75it/s]\n"
     ]
    },
    {
     "name": "stdout",
     "output_type": "stream",
     "text": [
      "Test Loss: 0.5916, Accuracy: 0.6634\n",
      "Epoch 4/10:\n"
     ]
    },
    {
     "name": "stderr",
     "output_type": "stream",
     "text": [
      "100%|██████████| 170/170 [00:46<00:00,  3.62it/s]\n"
     ]
    },
    {
     "name": "stdout",
     "output_type": "stream",
     "text": [
      "Train Loss: 0.5945, Accuracy: 0.6815\n"
     ]
    },
    {
     "name": "stderr",
     "output_type": "stream",
     "text": [
      "100%|██████████| 93/93 [00:10<00:00,  8.78it/s]\n"
     ]
    },
    {
     "name": "stdout",
     "output_type": "stream",
     "text": [
      "Test Loss: 0.6578, Accuracy: 0.5753\n",
      "Epoch 5/10:\n"
     ]
    },
    {
     "name": "stderr",
     "output_type": "stream",
     "text": [
      "100%|██████████| 170/170 [00:46<00:00,  3.68it/s]\n"
     ]
    },
    {
     "name": "stdout",
     "output_type": "stream",
     "text": [
      "Train Loss: 0.5783, Accuracy: 0.6902\n"
     ]
    },
    {
     "name": "stderr",
     "output_type": "stream",
     "text": [
      "100%|██████████| 93/93 [00:11<00:00,  7.91it/s]\n"
     ]
    },
    {
     "name": "stdout",
     "output_type": "stream",
     "text": [
      "Test Loss: 0.6066, Accuracy: 0.6753\n",
      "Epoch 6/10:\n"
     ]
    },
    {
     "name": "stderr",
     "output_type": "stream",
     "text": [
      "100%|██████████| 170/170 [00:47<00:00,  3.55it/s]\n"
     ]
    },
    {
     "name": "stdout",
     "output_type": "stream",
     "text": [
      "Train Loss: 0.5733, Accuracy: 0.7028\n"
     ]
    },
    {
     "name": "stderr",
     "output_type": "stream",
     "text": [
      "100%|██████████| 93/93 [00:12<00:00,  7.74it/s]\n"
     ]
    },
    {
     "name": "stdout",
     "output_type": "stream",
     "text": [
      "Test Loss: 0.6282, Accuracy: 0.6339\n",
      "Epoch 7/10:\n"
     ]
    },
    {
     "name": "stderr",
     "output_type": "stream",
     "text": [
      "100%|██████████| 170/170 [00:46<00:00,  3.68it/s]\n"
     ]
    },
    {
     "name": "stdout",
     "output_type": "stream",
     "text": [
      "Train Loss: 0.5569, Accuracy: 0.7107\n"
     ]
    },
    {
     "name": "stderr",
     "output_type": "stream",
     "text": [
      "100%|██████████| 93/93 [00:12<00:00,  7.59it/s]\n"
     ]
    },
    {
     "name": "stdout",
     "output_type": "stream",
     "text": [
      "Test Loss: 0.5498, Accuracy: 0.7039\n",
      "Epoch 8/10:\n"
     ]
    },
    {
     "name": "stderr",
     "output_type": "stream",
     "text": [
      "100%|██████████| 170/170 [00:46<00:00,  3.64it/s]\n"
     ]
    },
    {
     "name": "stdout",
     "output_type": "stream",
     "text": [
      "Train Loss: 0.5408, Accuracy: 0.7214\n"
     ]
    },
    {
     "name": "stderr",
     "output_type": "stream",
     "text": [
      "100%|██████████| 93/93 [00:11<00:00,  8.29it/s]\n"
     ]
    },
    {
     "name": "stdout",
     "output_type": "stream",
     "text": [
      "Test Loss: 0.8428, Accuracy: 0.5031\n",
      "Epoch 9/10:\n"
     ]
    },
    {
     "name": "stderr",
     "output_type": "stream",
     "text": [
      "100%|██████████| 170/170 [00:46<00:00,  3.66it/s]\n"
     ]
    },
    {
     "name": "stdout",
     "output_type": "stream",
     "text": [
      "Train Loss: 0.5295, Accuracy: 0.7322\n"
     ]
    },
    {
     "name": "stderr",
     "output_type": "stream",
     "text": [
      "100%|██████████| 93/93 [00:11<00:00,  8.25it/s]\n"
     ]
    },
    {
     "name": "stdout",
     "output_type": "stream",
     "text": [
      "Test Loss: 0.6226, Accuracy: 0.6947\n",
      "Epoch 10/10:\n"
     ]
    },
    {
     "name": "stderr",
     "output_type": "stream",
     "text": [
      "100%|██████████| 170/170 [00:46<00:00,  3.63it/s]\n"
     ]
    },
    {
     "name": "stdout",
     "output_type": "stream",
     "text": [
      "Train Loss: 0.5224, Accuracy: 0.7390\n"
     ]
    },
    {
     "name": "stderr",
     "output_type": "stream",
     "text": [
      "100%|██████████| 93/93 [00:10<00:00,  8.48it/s]"
     ]
    },
    {
     "name": "stdout",
     "output_type": "stream",
     "text": [
      "Test Loss: 0.7453, Accuracy: 0.5361\n"
     ]
    },
    {
     "name": "stderr",
     "output_type": "stream",
     "text": [
      "\n"
     ]
    }
   ],
   "source": [
    "# 替换最后一层，以适应二分类任务\n",
    "num_ftrs = model.fc.in_features  # 获取 ResNet50 全连接层的输入特征数\n",
    "model.fc = nn.Linear(num_ftrs, 2)  # 将最后一层替换为适合二分类任务的线性层\n",
    "\n",
    "# 将模型移到设备（GPU或CPU）\n",
    "model = model.to(device)\n",
    "\n",
    "# 定义损失函数和优化器\n",
    "criterion = nn.CrossEntropyLoss()  # 使用交叉熵损失函数（用于分类任务）\n",
    "optimizer = optim.Adam(model.parameters(), lr=0.001)  # Adam优化器\n",
    "\n",
    "# 开始训练\n",
    "num_epochs = 1000\n",
    "for epoch in range(num_epochs):\n",
    "    print(f\"Epoch {epoch+1}/{num_epochs}:\")\n",
    "    train(model, train_loader, criterion, optimizer, device)\n",
    "    test(model, test_loader, criterion, device)"
   ]
  },
  {
   "cell_type": "markdown",
   "metadata": {},
   "source": [
    "# Draft"
   ]
  },
  {
   "cell_type": "markdown",
   "metadata": {},
   "source": [
    "###  Yang dataset"
   ]
  },
  {
   "cell_type": "code",
   "execution_count": 7,
   "metadata": {},
   "outputs": [],
   "source": [
    "import os\n",
    "import torch\n",
    "import cv2\n",
    "import pandas as pd\n",
    "from tqdm import tqdm\n",
    "from torch.utils.data import DataLoader, TensorDataset\n",
    "from torchvision import transforms\n",
    "\n",
    "# 假设你已经有了dataset_df，下面是数据预处理和加载的代码\n",
    "transform = transforms.Compose([\n",
    "    transforms.ToPILImage(),\n",
    "    transforms.Resize((256, 256)),  # 假设所有图像都需要调整到28x28的尺寸\n",
    "    transforms.ToTensor(),\n",
    "    transforms.Normalize((0.1307,), (0.3081,))\n",
    "])\n",
    "\n",
    "\n"
   ]
  },
  {
   "cell_type": "code",
   "execution_count": null,
   "metadata": {},
   "outputs": [],
   "source": []
  },
  {
   "cell_type": "code",
   "execution_count": 8,
   "metadata": {},
   "outputs": [
    {
     "name": "stderr",
     "output_type": "stream",
     "text": [
      " 12%|█▏        | 3546/29445 [03:40<30:10, 14.30it/s]  Corrupt JPEG data: 91610 extraneous bytes before marker 0xd9\n",
      " 31%|███▏      | 9231/29445 [09:48<22:35, 14.92it/s]  libpng warning: Incorrect sBIT chunk length\n",
      " 43%|████▎     | 12748/29445 [13:52<15:12, 18.29it/s]Premature end of JPEG file\n",
      " 44%|████▎     | 12859/29445 [14:00<18:53, 14.63it/s]Corrupt JPEG data: 6 extraneous bytes before marker 0xdb\n",
      " 49%|████▊     | 14325/29445 [15:37<12:11, 20.66it/s]Premature end of JPEG file\n",
      " 78%|███████▊  | 22911/29445 [24:49<05:01, 21.69it/s]  libpng warning: Incorrect sBIT chunk length\n",
      " 85%|████████▌ | 25034/29445 [26:59<04:32, 16.20it/s]Corrupt JPEG data: bad Huffman code\n",
      "100%|██████████| 29445/29445 [31:46<00:00, 15.44it/s]\n"
     ]
    }
   ],
   "source": [
    "# 准备存储图像和标签的列表\n",
    "images = []\n",
    "labels = []\n",
    "\n",
    "# 遍历dataset_df，读取图像并应用预处理\n",
    "for idx, row in tqdm(dataset_df.iterrows(), total=len(dataset_df)):\n",
    "    img_path = row['file']\n",
    "    label = 1 if row['Class'] == 'Qualified' else 0  # 假设你用1表示Qualified, 0表示Unqualified\n",
    "    \n",
    "    try:\n",
    "        img = cv2.imread(img_path)\n",
    "        if img is not None:\n",
    "            # 处理并添加到列表\n",
    "            img = cv2.cvtColor(img, cv2.COLOR_BGR2RGB)  # 转换为RGB\n",
    "            img_tensor = transform(img)\n",
    "            images.append(img_tensor)\n",
    "            labels.append(label)\n",
    "        else:\n",
    "            print(f\"Image at {img_path} is None, skipping.\")\n",
    "    except Exception as e:\n",
    "        print(f\"Error reading image at {img_path}: {e}\")\n",
    "\n"
   ]
  },
  {
   "cell_type": "code",
   "execution_count": 9,
   "metadata": {},
   "outputs": [
    {
     "name": "stdout",
     "output_type": "stream",
     "text": [
      "Train DataLoader: 369\n",
      "Test DataLoader: 93\n"
     ]
    }
   ],
   "source": [
    "# 将图像和标签转换为PyTorch张量\n",
    "images_tensor = torch.stack(images)  # 将图像堆叠为4D张量 (N, C, H, W)\n",
    "labels_tensor = torch.tensor(labels, dtype=torch.long)\n",
    "\n",
    "# 创建数据集\n",
    "dataset = TensorDataset(images_tensor, labels_tensor)\n",
    "\n",
    "# 分割训练集和测试集\n",
    "train_size = int(0.8 * len(dataset))\n",
    "test_size = len(dataset) - train_size\n",
    "train_dataset, test_dataset = torch.utils.data.random_split(dataset, [train_size, test_size])\n",
    "\n",
    "# 创建数据加载器\n",
    "train_loader = DataLoader(train_dataset, batch_size=64, shuffle=True, )\n",
    "test_loader = DataLoader(test_dataset, batch_size=64, shuffle=False)\n",
    "\n",
    "# 打印一些信息来验证\n",
    "print(\"Train DataLoader:\", len(train_loader))\n",
    "print(\"Test DataLoader:\", len(test_loader))"
   ]
  },
  {
   "cell_type": "markdown",
   "metadata": {},
   "source": [
    "# save pt dataloader to disk"
   ]
  },
  {
   "cell_type": "code",
   "execution_count": 10,
   "metadata": {},
   "outputs": [],
   "source": [
    "\n",
    "# 保存训练集和测试集\n",
    "torch.save(train_dataset, '../../dataset/spider_img/dataloader/train_dataset.pt')\n",
    "torch.save(test_dataset, '../../dataset/spider_img/dataloader/test_dataset.pt')\n"
   ]
  },
  {
   "cell_type": "markdown",
   "metadata": {},
   "source": [
    "# Another dataset method"
   ]
  },
  {
   "cell_type": "code",
   "execution_count": 1,
   "metadata": {},
   "outputs": [],
   "source": [
    "# read df\n",
    "import pandas as pd\n",
    "dataset_df = pd.read_parquet('../../dataset/spider_img/parquet/dataset.parquet')"
   ]
  },
  {
   "cell_type": "code",
   "execution_count": null,
   "metadata": {},
   "outputs": [],
   "source": [
    "dataset_df"
   ]
  },
  {
   "cell_type": "code",
   "execution_count": 2,
   "metadata": {},
   "outputs": [
    {
     "name": "stderr",
     "output_type": "stream",
     "text": [
      "/comp_robot/yangyuqin/Anaconda3/envs/deepl2/lib/python3.8/site-packages/tqdm/auto.py:21: TqdmWarning: IProgress not found. Please update jupyter and ipywidgets. See https://ipywidgets.readthedocs.io/en/stable/user_install.html\n",
      "  from .autonotebook import tqdm as notebook_tqdm\n"
     ]
    }
   ],
   "source": [
    "import os\n",
    "import torch\n",
    "import cv2\n",
    "import pandas as pd\n",
    "from tqdm import tqdm\n",
    "from torch.utils.data import DataLoader, TensorDataset\n",
    "from torchvision import transforms\n",
    "from dataset import YangDataset\n",
    "# 假设你已经有了dataset_df，下面是数据预处理和加载的代码\n",
    "transform = transforms.Compose([\n",
    "    transforms.ToPILImage(),\n",
    "    transforms.Resize((256, 256)),  # 假设所有图像都需要调整到28x28的尺寸\n",
    "    transforms.ToTensor(),\n",
    "    transforms.Normalize((0.1307,), (0.3081,))\n",
    "])\n",
    "\n",
    "dataset=YangDataset(dataset_df,transform)\n",
    "\n",
    "\n"
   ]
  },
  {
   "cell_type": "code",
   "execution_count": 4,
   "metadata": {},
   "outputs": [],
   "source": [
    "# 分割训练集和测试集\n",
    "train_size = int(0.8 * len(dataset))\n",
    "test_size = len(dataset) - train_size\n",
    "train_dataset, test_dataset = torch.utils.data.random_split(dataset, [train_size, test_size])\n",
    "\n"
   ]
  },
  {
   "cell_type": "code",
   "execution_count": 5,
   "metadata": {},
   "outputs": [
    {
     "name": "stdout",
     "output_type": "stream",
     "text": [
      "Train len:23556\tTest len:5889\n"
     ]
    }
   ],
   "source": [
    "print(f\"Train len:{len(train_dataset)}\\tTest len:{len(test_dataset)}\")"
   ]
  },
  {
   "cell_type": "code",
   "execution_count": 6,
   "metadata": {},
   "outputs": [],
   "source": [
    "def custom_collate_fn(batch):\n",
    "    \"\"\"\n",
    "    自定义collate_fn，用于过滤掉返回None的样本。\n",
    "    \n",
    "    Args:\n",
    "        batch: 一个批次的数据，其中可能包含 (img_tensor, label) 的形式，也可能包含 None。\n",
    "    \n",
    "    Returns:\n",
    "        Valid images and labels as tensors.\n",
    "    \"\"\"\n",
    "    # 过滤掉 None 的样本\n",
    "    batch = [item for item in batch if item[0] is not None]\n",
    "    \n",
    "    if len(batch) == 0:\n",
    "        # 如果没有有效的样本，则返回空的张量\n",
    "        return torch.empty(0), torch.empty(0)\n",
    "\n",
    "    # 分别提取图像和标签\n",
    "    images, labels = zip(*batch)\n",
    "\n",
    "    # 将图像堆叠为一个批次\n",
    "    images = torch.stack(images)\n",
    "    # 将标签也转换为张量\n",
    "    labels = torch.tensor(labels)\n",
    "\n",
    "    return images, labels"
   ]
  },
  {
   "cell_type": "code",
   "execution_count": 7,
   "metadata": {},
   "outputs": [],
   "source": [
    "# 创建数据加载器\n",
    "train_loader = DataLoader(train_dataset, batch_size=64, shuffle=True, num_workers=4, collate_fn=custom_collate_fn)\n",
    "test_loader = DataLoader(test_dataset, batch_size=64, shuffle=False, num_workers=4, collate_fn=custom_collate_fn)\n"
   ]
  },
  {
   "cell_type": "code",
   "execution_count": 8,
   "metadata": {},
   "outputs": [],
   "source": [
    "import torch\n",
    "import torch.nn as nn\n",
    "import torch.optim as optim\n",
    "from torchvision import models\n",
    "\n",
    "# 定义训练函数\n",
    "def train(model, train_loader, criterion, optimizer, device):\n",
    "    model.train()\n",
    "    running_loss = 0.0\n",
    "    correct = 0\n",
    "    total = 0\n",
    "\n",
    "    for images, labels in tqdm(train_loader):\n",
    "        images, labels = images.to(device), labels.to(device)\n",
    "\n",
    "        # 清零梯度\n",
    "        optimizer.zero_grad()\n",
    "\n",
    "        # 前向传播\n",
    "        outputs = model(images)\n",
    "        loss = criterion(outputs, labels)\n",
    "\n",
    "        # 反向传播和优化\n",
    "        loss.backward()\n",
    "        optimizer.step()\n",
    "\n",
    "        # 计算损失和准确率\n",
    "        running_loss += loss.item()\n",
    "        _, predicted = outputs.max(1)\n",
    "        total += labels.size(0)\n",
    "        correct += predicted.eq(labels).sum().item()\n",
    "\n",
    "    epoch_loss = running_loss / len(train_loader)\n",
    "    accuracy = correct / total\n",
    "    print(f\"Train Loss: {epoch_loss:.4f}, Accuracy: {accuracy:.4f}\")\n",
    "\n",
    "# 定义测试函数\n",
    "def test(model, test_loader, criterion, device):\n",
    "    model.eval()\n",
    "    running_loss = 0.0\n",
    "    correct = 0\n",
    "    total = 0\n",
    "\n",
    "    with torch.no_grad():\n",
    "        for images, labels in tqdm(test_loader):\n",
    "            images, labels = images.to(device), labels.to(device)\n",
    "\n",
    "            # 前向传播\n",
    "            outputs = model(images)\n",
    "            loss = criterion(outputs, labels)\n",
    "\n",
    "            # 计算损失和准确率\n",
    "            running_loss += loss.item()\n",
    "            _, predicted = outputs.max(1)\n",
    "            total += labels.size(0)\n",
    "            correct += predicted.eq(labels).sum().item()\n",
    "\n",
    "    epoch_loss = running_loss / len(test_loader)\n",
    "    accuracy = correct / total\n",
    "    print(f\"Test Loss: {epoch_loss:.4f}, Accuracy: {accuracy:.4f}\")"
   ]
  },
  {
   "cell_type": "code",
   "execution_count": null,
   "metadata": {},
   "outputs": [],
   "source": [
    "# 检查是否有GPU可用\n",
    "# device = torch.device(\"cuda:2\" if torch.cuda.is_available() else \"cpu\")\n",
    "device = torch.device(\"cuda:2\")\n",
    "\n",
    "\n",
    "# 加载预训练的 ResNet50 模型\n",
    "model_resnet50 = models.resnet50(pretrained=True)\n",
    "# # 加载预训练的 VGG16 模型\n",
    "# model_vgg16 = models.vgg16(pretrained=True)\n",
    "# # 加载预训练的 DenseNet121 模型\n",
    "# model_densenet121 = models.densenet121(pretrained=True)\n",
    "# # 加载预训练的 MobileNetV2 模型\n",
    "# model_mobilenet_v2 = models.mobilenet_v2(pretrained=True)\n",
    "# 替换最后一层，以适应当前任务（假设二分类任务）\n",
    "num_ftrs = models.fc.in_features\n",
    "model.fc = nn.Linear(num_ftrs, 2)  # 二分类：‘Qualified’和‘Unqualified’\n",
    "\n",
    "# 将模型移到设备（GPU或CPU）\n",
    "model = model.to(device)\n",
    "\n",
    "# 定义损失函数和优化器\n",
    "criterion = nn.CrossEntropyLoss()  # 使用交叉熵损失函数（用于分类任务）\n",
    "optimizer = optim.Adam(model.parameters(), lr=0.001)  # Adam优化器"
   ]
  },
  {
   "cell_type": "code",
   "execution_count": 10,
   "metadata": {},
   "outputs": [
    {
     "name": "stdout",
     "output_type": "stream",
     "text": [
      "Epoch 1/10:\n"
     ]
    },
    {
     "name": "stderr",
     "output_type": "stream",
     "text": [
      " 14%|█▎        | 50/369 [03:43<17:34,  3.30s/it] libpng warning: Incorrect sBIT chunk length\n",
      " 50%|█████     | 186/369 [10:07<08:13,  2.70s/it]Premature end of JPEG file\n",
      " 60%|██████    | 223/369 [12:30<03:18,  1.36s/it]libpng warning: Incorrect sBIT chunk length\n",
      " 64%|██████▎   | 235/369 [13:44<06:26,  2.89s/it]Premature end of JPEG file\n",
      " 75%|███████▌  | 278/369 [15:19<02:58,  1.96s/it]Corrupt JPEG data: bad Huffman code\n",
      "100%|██████████| 369/369 [23:26<00:00,  3.81s/it]\n"
     ]
    },
    {
     "name": "stdout",
     "output_type": "stream",
     "text": [
      "Train Loss: 0.5048, Accuracy: 0.7748\n"
     ]
    },
    {
     "name": "stderr",
     "output_type": "stream",
     "text": [
      " 16%|█▌        | 15/93 [01:26<05:33,  4.27s/it]Corrupt JPEG data: 6 extraneous bytes before marker 0xdb\n",
      " 49%|████▉     | 46/93 [03:06<01:18,  1.67s/it]Corrupt JPEG data: 91610 extraneous bytes before marker 0xd9\n",
      "100%|██████████| 93/93 [05:36<00:00,  3.61s/it]\n"
     ]
    },
    {
     "name": "stdout",
     "output_type": "stream",
     "text": [
      "Test Loss: 0.4906, Accuracy: 0.7567\n",
      "Epoch 2/10:\n"
     ]
    },
    {
     "name": "stderr",
     "output_type": "stream",
     "text": [
      "  2%|▏         | 8/369 [00:36<12:13,  2.03s/it]  libpng warning: Incorrect sBIT chunk length\n",
      "  4%|▍         | 16/369 [01:30<14:07,  2.40s/it]  Premature end of JPEG file\n",
      " 48%|████▊     | 176/369 [10:15<05:53,  1.83s/it] Corrupt JPEG data: bad Huffman code\n",
      "Premature end of JPEG file\n",
      " 76%|███████▌  | 280/369 [19:25<03:36,  2.44s/it]libpng warning: Incorrect sBIT chunk length\n",
      "100%|██████████| 369/369 [22:04<00:00,  3.59s/it]\n"
     ]
    },
    {
     "name": "stdout",
     "output_type": "stream",
     "text": [
      "Train Loss: 0.4592, Accuracy: 0.7880\n"
     ]
    },
    {
     "name": "stderr",
     "output_type": "stream",
     "text": [
      " 15%|█▌        | 14/93 [00:40<02:33,  1.94s/it]Corrupt JPEG data: 6 extraneous bytes before marker 0xdb\n",
      " 47%|████▋     | 44/93 [01:17<00:30,  1.60it/s]Corrupt JPEG data: 91610 extraneous bytes before marker 0xd9\n",
      "100%|██████████| 93/93 [02:31<00:00,  1.63s/it]\n"
     ]
    },
    {
     "name": "stdout",
     "output_type": "stream",
     "text": [
      "Test Loss: 0.4660, Accuracy: 0.7930\n",
      "Epoch 3/10:\n"
     ]
    },
    {
     "name": "stderr",
     "output_type": "stream",
     "text": [
      "  8%|▊         | 28/369 [01:06<08:19,  1.46s/it] libpng warning: Incorrect sBIT chunk length\n",
      " 33%|███▎      | 122/369 [03:14<03:42,  1.11it/s]Corrupt JPEG data: bad Huffman code\n",
      " 44%|████▍     | 163/369 [03:56<02:13,  1.54it/s]libpng warning: Incorrect sBIT chunk length\n",
      " 60%|██████    | 223/369 [04:48<02:06,  1.16it/s]Premature end of JPEG file\n",
      " 95%|█████████▍| 350/369 [06:46<00:13,  1.43it/s]Premature end of JPEG file\n",
      "100%|██████████| 369/369 [07:00<00:00,  1.14s/it]\n"
     ]
    },
    {
     "name": "stdout",
     "output_type": "stream",
     "text": [
      "Train Loss: 0.4369, Accuracy: 0.7972\n"
     ]
    },
    {
     "name": "stderr",
     "output_type": "stream",
     "text": [
      " 19%|█▉        | 18/93 [00:15<01:00,  1.23it/s]Corrupt JPEG data: 6 extraneous bytes before marker 0xdb\n",
      " 48%|████▊     | 45/93 [00:27<00:19,  2.48it/s]Corrupt JPEG data: 91610 extraneous bytes before marker 0xd9\n",
      "100%|██████████| 93/93 [01:06<00:00,  1.40it/s]\n"
     ]
    },
    {
     "name": "stdout",
     "output_type": "stream",
     "text": [
      "Test Loss: 0.6184, Accuracy: 0.7906\n",
      "Epoch 4/10:\n"
     ]
    },
    {
     "name": "stderr",
     "output_type": "stream",
     "text": [
      " 28%|██▊       | 105/369 [01:07<01:49,  2.41it/s]libpng warning: Incorrect sBIT chunk length\n",
      " 50%|█████     | 186/369 [02:30<01:36,  1.90it/s]Premature end of JPEG file\n",
      " 52%|█████▏    | 191/369 [02:35<01:58,  1.50it/s]Corrupt JPEG data: bad Huffman code\n",
      " 54%|█████▍    | 199/369 [02:39<01:30,  1.87it/s]libpng warning: Incorrect sBIT chunk length\n",
      " 75%|███████▍  | 276/369 [04:26<01:28,  1.05it/s]Premature end of JPEG file\n",
      "100%|██████████| 369/369 [06:15<00:00,  1.02s/it]\n"
     ]
    },
    {
     "name": "stdout",
     "output_type": "stream",
     "text": [
      "Train Loss: 0.4320, Accuracy: 0.7998\n"
     ]
    },
    {
     "name": "stderr",
     "output_type": "stream",
     "text": [
      " 14%|█▍        | 13/93 [00:44<05:12,  3.90s/it]Corrupt JPEG data: 6 extraneous bytes before marker 0xdb\n",
      " 49%|████▉     | 46/93 [01:16<00:34,  1.38it/s]Corrupt JPEG data: 91610 extraneous bytes before marker 0xd9\n",
      "100%|██████████| 93/93 [02:50<00:00,  1.84s/it]\n"
     ]
    },
    {
     "name": "stdout",
     "output_type": "stream",
     "text": [
      "Test Loss: 0.4217, Accuracy: 0.7972\n",
      "Epoch 5/10:\n"
     ]
    },
    {
     "name": "stderr",
     "output_type": "stream",
     "text": [
      "  0%|          | 0/369 [00:00<?, ?it/s]Corrupt JPEG data: bad Huffman code\n",
      "  9%|▉         | 33/369 [00:24<02:16,  2.47it/s]libpng warning: Incorrect sBIT chunk length\n",
      "Premature end of JPEG file\n",
      "libpng warning: Incorrect sBIT chunk length\n",
      " 91%|█████████▏| 337/369 [05:18<00:53,  1.66s/it]Premature end of JPEG file\n",
      "100%|██████████| 369/369 [06:11<00:00,  1.01s/it]\n"
     ]
    },
    {
     "name": "stdout",
     "output_type": "stream",
     "text": [
      "Train Loss: 0.4163, Accuracy: 0.8082\n"
     ]
    },
    {
     "name": "stderr",
     "output_type": "stream",
     "text": [
      " 15%|█▌        | 14/93 [00:10<00:54,  1.44it/s]Corrupt JPEG data: 6 extraneous bytes before marker 0xdb\n",
      " 51%|█████     | 47/93 [01:07<00:36,  1.27it/s]Corrupt JPEG data: 91610 extraneous bytes before marker 0xd9\n",
      "100%|██████████| 93/93 [02:15<00:00,  1.46s/it]\n"
     ]
    },
    {
     "name": "stdout",
     "output_type": "stream",
     "text": [
      "Test Loss: 0.4326, Accuracy: 0.7966\n",
      "Epoch 6/10:\n"
     ]
    },
    {
     "name": "stderr",
     "output_type": "stream",
     "text": [
      " 18%|█▊        | 67/369 [01:53<05:28,  1.09s/it] libpng warning: Incorrect sBIT chunk length\n",
      " 21%|██        | 78/369 [02:24<09:10,  1.89s/it]Premature end of JPEG file\n",
      " 34%|███▍      | 125/369 [04:02<04:00,  1.01it/s]libpng warning: Incorrect sBIT chunk length\n",
      " 75%|███████▌  | 278/369 [11:30<00:54,  1.68it/s]Premature end of JPEG file\n",
      " 82%|████████▏ | 301/369 [12:52<05:11,  4.58s/it]Corrupt JPEG data: bad Huffman code\n",
      "100%|██████████| 369/369 [16:54<00:00,  2.75s/it]\n"
     ]
    },
    {
     "name": "stdout",
     "output_type": "stream",
     "text": [
      "Train Loss: 0.4127, Accuracy: 0.8099\n"
     ]
    },
    {
     "name": "stderr",
     "output_type": "stream",
     "text": [
      " 20%|██        | 19/93 [01:07<01:52,  1.52s/it]Corrupt JPEG data: 6 extraneous bytes before marker 0xdb\n",
      " 51%|█████     | 47/93 [01:46<00:32,  1.41it/s]Corrupt JPEG data: 91610 extraneous bytes before marker 0xd9\n",
      "100%|██████████| 93/93 [04:32<00:00,  2.93s/it]\n"
     ]
    },
    {
     "name": "stdout",
     "output_type": "stream",
     "text": [
      "Test Loss: 0.5009, Accuracy: 0.7514\n",
      "Epoch 7/10:\n"
     ]
    },
    {
     "name": "stderr",
     "output_type": "stream",
     "text": [
      "  2%|▏         | 8/369 [00:07<03:29,  1.72it/s]libpng warning: Incorrect sBIT chunk length\n",
      " 27%|██▋       | 99/369 [03:30<25:18,  5.62s/it]  Premature end of JPEG file\n",
      "Corrupt JPEG data: bad Huffman code\n",
      " 33%|███▎      | 123/369 [04:00<04:44,  1.16s/it]Premature end of JPEG file\n",
      " 65%|██████▌   | 241/369 [09:32<05:26,  2.55s/it]libpng warning: Incorrect sBIT chunk length\n",
      "100%|██████████| 369/369 [16:14<00:00,  2.64s/it]\n"
     ]
    },
    {
     "name": "stdout",
     "output_type": "stream",
     "text": [
      "Train Loss: 0.3927, Accuracy: 0.8186\n"
     ]
    },
    {
     "name": "stderr",
     "output_type": "stream",
     "text": [
      " 15%|█▌        | 14/93 [00:12<01:03,  1.25it/s]Corrupt JPEG data: 6 extraneous bytes before marker 0xdb\n",
      " 47%|████▋     | 44/93 [00:25<00:22,  2.16it/s]Corrupt JPEG data: 91610 extraneous bytes before marker 0xd9\n",
      "100%|██████████| 93/93 [03:06<00:00,  2.00s/it]\n"
     ]
    },
    {
     "name": "stdout",
     "output_type": "stream",
     "text": [
      "Test Loss: 0.4289, Accuracy: 0.7908\n",
      "Epoch 8/10:\n"
     ]
    },
    {
     "name": "stderr",
     "output_type": "stream",
     "text": [
      "  9%|▉         | 33/369 [00:52<07:07,  1.27s/it]libpng warning: Incorrect sBIT chunk length\n",
      " 71%|███████   | 261/369 [09:21<01:21,  1.32it/s]  libpng warning: Incorrect sBIT chunk length\n",
      " 74%|███████▍  | 274/369 [09:48<04:22,  2.76s/it]Premature end of JPEG file\n",
      " 76%|███████▌  | 279/369 [4:17:31<1:23:04, 55.38s/it]\n"
     ]
    },
    {
     "ename": "KeyboardInterrupt",
     "evalue": "",
     "output_type": "error",
     "traceback": [
      "\u001b[0;31m---------------------------------------------------------------------------\u001b[0m",
      "\u001b[0;31mKeyboardInterrupt\u001b[0m                         Traceback (most recent call last)",
      "Input \u001b[0;32mIn [10]\u001b[0m, in \u001b[0;36m<cell line: 3>\u001b[0;34m()\u001b[0m\n\u001b[1;32m      3\u001b[0m \u001b[38;5;28;01mfor\u001b[39;00m epoch \u001b[38;5;129;01min\u001b[39;00m \u001b[38;5;28mrange\u001b[39m(num_epochs):\n\u001b[1;32m      4\u001b[0m     \u001b[38;5;28mprint\u001b[39m(\u001b[38;5;124mf\u001b[39m\u001b[38;5;124m\"\u001b[39m\u001b[38;5;124mEpoch \u001b[39m\u001b[38;5;132;01m{\u001b[39;00mepoch\u001b[38;5;241m+\u001b[39m\u001b[38;5;241m1\u001b[39m\u001b[38;5;132;01m}\u001b[39;00m\u001b[38;5;124m/\u001b[39m\u001b[38;5;132;01m{\u001b[39;00mnum_epochs\u001b[38;5;132;01m}\u001b[39;00m\u001b[38;5;124m:\u001b[39m\u001b[38;5;124m\"\u001b[39m)\n\u001b[0;32m----> 5\u001b[0m     \u001b[43mtrain\u001b[49m\u001b[43m(\u001b[49m\u001b[43mmodel\u001b[49m\u001b[43m,\u001b[49m\u001b[43m \u001b[49m\u001b[43mtrain_loader\u001b[49m\u001b[43m,\u001b[49m\u001b[43m \u001b[49m\u001b[43mcriterion\u001b[49m\u001b[43m,\u001b[49m\u001b[43m \u001b[49m\u001b[43moptimizer\u001b[49m\u001b[43m,\u001b[49m\u001b[43m \u001b[49m\u001b[43mdevice\u001b[49m\u001b[43m)\u001b[49m\n\u001b[1;32m      6\u001b[0m     test(model, test_loader, criterion, device)\n",
      "Input \u001b[0;32mIn [8]\u001b[0m, in \u001b[0;36mtrain\u001b[0;34m(model, train_loader, criterion, optimizer, device)\u001b[0m\n\u001b[1;32m     10\u001b[0m correct \u001b[38;5;241m=\u001b[39m \u001b[38;5;241m0\u001b[39m\n\u001b[1;32m     11\u001b[0m total \u001b[38;5;241m=\u001b[39m \u001b[38;5;241m0\u001b[39m\n\u001b[0;32m---> 13\u001b[0m \u001b[38;5;28;01mfor\u001b[39;00m images, labels \u001b[38;5;129;01min\u001b[39;00m tqdm(train_loader):\n\u001b[1;32m     14\u001b[0m     images, labels \u001b[38;5;241m=\u001b[39m images\u001b[38;5;241m.\u001b[39mto(device), labels\u001b[38;5;241m.\u001b[39mto(device)\n\u001b[1;32m     16\u001b[0m     \u001b[38;5;66;03m# 清零梯度\u001b[39;00m\n",
      "File \u001b[0;32m/comp_robot/yangyuqin/Anaconda3/envs/deepl2/lib/python3.8/site-packages/tqdm/std.py:1181\u001b[0m, in \u001b[0;36mtqdm.__iter__\u001b[0;34m(self)\u001b[0m\n\u001b[1;32m   1178\u001b[0m time \u001b[38;5;241m=\u001b[39m \u001b[38;5;28mself\u001b[39m\u001b[38;5;241m.\u001b[39m_time\n\u001b[1;32m   1180\u001b[0m \u001b[38;5;28;01mtry\u001b[39;00m:\n\u001b[0;32m-> 1181\u001b[0m     \u001b[38;5;28;01mfor\u001b[39;00m obj \u001b[38;5;129;01min\u001b[39;00m iterable:\n\u001b[1;32m   1182\u001b[0m         \u001b[38;5;28;01myield\u001b[39;00m obj\n\u001b[1;32m   1183\u001b[0m         \u001b[38;5;66;03m# Update and possibly print the progressbar.\u001b[39;00m\n\u001b[1;32m   1184\u001b[0m         \u001b[38;5;66;03m# Note: does not call self.update(1) for speed optimisation.\u001b[39;00m\n",
      "File \u001b[0;32m/comp_robot/yangyuqin/Anaconda3/envs/deepl2/lib/python3.8/site-packages/torch/utils/data/dataloader.py:435\u001b[0m, in \u001b[0;36m_BaseDataLoaderIter.__next__\u001b[0;34m(self)\u001b[0m\n\u001b[1;32m    433\u001b[0m \u001b[38;5;28;01mif\u001b[39;00m \u001b[38;5;28mself\u001b[39m\u001b[38;5;241m.\u001b[39m_sampler_iter \u001b[38;5;129;01mis\u001b[39;00m \u001b[38;5;28;01mNone\u001b[39;00m:\n\u001b[1;32m    434\u001b[0m     \u001b[38;5;28mself\u001b[39m\u001b[38;5;241m.\u001b[39m_reset()\n\u001b[0;32m--> 435\u001b[0m data \u001b[38;5;241m=\u001b[39m \u001b[38;5;28;43mself\u001b[39;49m\u001b[38;5;241;43m.\u001b[39;49m\u001b[43m_next_data\u001b[49m\u001b[43m(\u001b[49m\u001b[43m)\u001b[49m\n\u001b[1;32m    436\u001b[0m \u001b[38;5;28mself\u001b[39m\u001b[38;5;241m.\u001b[39m_num_yielded \u001b[38;5;241m+\u001b[39m\u001b[38;5;241m=\u001b[39m \u001b[38;5;241m1\u001b[39m\n\u001b[1;32m    437\u001b[0m \u001b[38;5;28;01mif\u001b[39;00m \u001b[38;5;28mself\u001b[39m\u001b[38;5;241m.\u001b[39m_dataset_kind \u001b[38;5;241m==\u001b[39m _DatasetKind\u001b[38;5;241m.\u001b[39mIterable \u001b[38;5;129;01mand\u001b[39;00m \\\n\u001b[1;32m    438\u001b[0m         \u001b[38;5;28mself\u001b[39m\u001b[38;5;241m.\u001b[39m_IterableDataset_len_called \u001b[38;5;129;01mis\u001b[39;00m \u001b[38;5;129;01mnot\u001b[39;00m \u001b[38;5;28;01mNone\u001b[39;00m \u001b[38;5;129;01mand\u001b[39;00m \\\n\u001b[1;32m    439\u001b[0m         \u001b[38;5;28mself\u001b[39m\u001b[38;5;241m.\u001b[39m_num_yielded \u001b[38;5;241m>\u001b[39m \u001b[38;5;28mself\u001b[39m\u001b[38;5;241m.\u001b[39m_IterableDataset_len_called:\n",
      "File \u001b[0;32m/comp_robot/yangyuqin/Anaconda3/envs/deepl2/lib/python3.8/site-packages/torch/utils/data/dataloader.py:1068\u001b[0m, in \u001b[0;36m_MultiProcessingDataLoaderIter._next_data\u001b[0;34m(self)\u001b[0m\n\u001b[1;32m   1065\u001b[0m     \u001b[38;5;28;01mreturn\u001b[39;00m \u001b[38;5;28mself\u001b[39m\u001b[38;5;241m.\u001b[39m_process_data(data)\n\u001b[1;32m   1067\u001b[0m \u001b[38;5;28;01massert\u001b[39;00m \u001b[38;5;129;01mnot\u001b[39;00m \u001b[38;5;28mself\u001b[39m\u001b[38;5;241m.\u001b[39m_shutdown \u001b[38;5;129;01mand\u001b[39;00m \u001b[38;5;28mself\u001b[39m\u001b[38;5;241m.\u001b[39m_tasks_outstanding \u001b[38;5;241m>\u001b[39m \u001b[38;5;241m0\u001b[39m\n\u001b[0;32m-> 1068\u001b[0m idx, data \u001b[38;5;241m=\u001b[39m \u001b[38;5;28;43mself\u001b[39;49m\u001b[38;5;241;43m.\u001b[39;49m\u001b[43m_get_data\u001b[49m\u001b[43m(\u001b[49m\u001b[43m)\u001b[49m\n\u001b[1;32m   1069\u001b[0m \u001b[38;5;28mself\u001b[39m\u001b[38;5;241m.\u001b[39m_tasks_outstanding \u001b[38;5;241m-\u001b[39m\u001b[38;5;241m=\u001b[39m \u001b[38;5;241m1\u001b[39m\n\u001b[1;32m   1070\u001b[0m \u001b[38;5;28;01mif\u001b[39;00m \u001b[38;5;28mself\u001b[39m\u001b[38;5;241m.\u001b[39m_dataset_kind \u001b[38;5;241m==\u001b[39m _DatasetKind\u001b[38;5;241m.\u001b[39mIterable:\n\u001b[1;32m   1071\u001b[0m     \u001b[38;5;66;03m# Check for _IterableDatasetStopIteration\u001b[39;00m\n",
      "File \u001b[0;32m/comp_robot/yangyuqin/Anaconda3/envs/deepl2/lib/python3.8/site-packages/torch/utils/data/dataloader.py:1034\u001b[0m, in \u001b[0;36m_MultiProcessingDataLoaderIter._get_data\u001b[0;34m(self)\u001b[0m\n\u001b[1;32m   1030\u001b[0m     \u001b[38;5;66;03m# In this case, `self._data_queue` is a `queue.Queue`,. But we don't\u001b[39;00m\n\u001b[1;32m   1031\u001b[0m     \u001b[38;5;66;03m# need to call `.task_done()` because we don't use `.join()`.\u001b[39;00m\n\u001b[1;32m   1032\u001b[0m \u001b[38;5;28;01melse\u001b[39;00m:\n\u001b[1;32m   1033\u001b[0m     \u001b[38;5;28;01mwhile\u001b[39;00m \u001b[38;5;28;01mTrue\u001b[39;00m:\n\u001b[0;32m-> 1034\u001b[0m         success, data \u001b[38;5;241m=\u001b[39m \u001b[38;5;28;43mself\u001b[39;49m\u001b[38;5;241;43m.\u001b[39;49m\u001b[43m_try_get_data\u001b[49m\u001b[43m(\u001b[49m\u001b[43m)\u001b[49m\n\u001b[1;32m   1035\u001b[0m         \u001b[38;5;28;01mif\u001b[39;00m success:\n\u001b[1;32m   1036\u001b[0m             \u001b[38;5;28;01mreturn\u001b[39;00m data\n",
      "File \u001b[0;32m/comp_robot/yangyuqin/Anaconda3/envs/deepl2/lib/python3.8/site-packages/torch/utils/data/dataloader.py:872\u001b[0m, in \u001b[0;36m_MultiProcessingDataLoaderIter._try_get_data\u001b[0;34m(self, timeout)\u001b[0m\n\u001b[1;32m    859\u001b[0m \u001b[38;5;28;01mdef\u001b[39;00m \u001b[38;5;21m_try_get_data\u001b[39m(\u001b[38;5;28mself\u001b[39m, timeout\u001b[38;5;241m=\u001b[39m_utils\u001b[38;5;241m.\u001b[39mMP_STATUS_CHECK_INTERVAL):\n\u001b[1;32m    860\u001b[0m     \u001b[38;5;66;03m# Tries to fetch data from `self._data_queue` once for a given timeout.\u001b[39;00m\n\u001b[1;32m    861\u001b[0m     \u001b[38;5;66;03m# This can also be used as inner loop of fetching without timeout, with\u001b[39;00m\n\u001b[0;32m   (...)\u001b[0m\n\u001b[1;32m    869\u001b[0m     \u001b[38;5;66;03m# Returns a 2-tuple:\u001b[39;00m\n\u001b[1;32m    870\u001b[0m     \u001b[38;5;66;03m#   (bool: whether successfully get data, any: data if successful else None)\u001b[39;00m\n\u001b[1;32m    871\u001b[0m     \u001b[38;5;28;01mtry\u001b[39;00m:\n\u001b[0;32m--> 872\u001b[0m         data \u001b[38;5;241m=\u001b[39m \u001b[38;5;28;43mself\u001b[39;49m\u001b[38;5;241;43m.\u001b[39;49m\u001b[43m_data_queue\u001b[49m\u001b[38;5;241;43m.\u001b[39;49m\u001b[43mget\u001b[49m\u001b[43m(\u001b[49m\u001b[43mtimeout\u001b[49m\u001b[38;5;241;43m=\u001b[39;49m\u001b[43mtimeout\u001b[49m\u001b[43m)\u001b[49m\n\u001b[1;32m    873\u001b[0m         \u001b[38;5;28;01mreturn\u001b[39;00m (\u001b[38;5;28;01mTrue\u001b[39;00m, data)\n\u001b[1;32m    874\u001b[0m     \u001b[38;5;28;01mexcept\u001b[39;00m \u001b[38;5;167;01mException\u001b[39;00m \u001b[38;5;28;01mas\u001b[39;00m e:\n\u001b[1;32m    875\u001b[0m         \u001b[38;5;66;03m# At timeout and error, we manually check whether any worker has\u001b[39;00m\n\u001b[1;32m    876\u001b[0m         \u001b[38;5;66;03m# failed. Note that this is the only mechanism for Windows to detect\u001b[39;00m\n\u001b[1;32m    877\u001b[0m         \u001b[38;5;66;03m# worker failures.\u001b[39;00m\n",
      "File \u001b[0;32m/comp_robot/yangyuqin/Anaconda3/envs/deepl2/lib/python3.8/multiprocessing/queues.py:107\u001b[0m, in \u001b[0;36mQueue.get\u001b[0;34m(self, block, timeout)\u001b[0m\n\u001b[1;32m    105\u001b[0m \u001b[38;5;28;01mif\u001b[39;00m block:\n\u001b[1;32m    106\u001b[0m     timeout \u001b[38;5;241m=\u001b[39m deadline \u001b[38;5;241m-\u001b[39m time\u001b[38;5;241m.\u001b[39mmonotonic()\n\u001b[0;32m--> 107\u001b[0m     \u001b[38;5;28;01mif\u001b[39;00m \u001b[38;5;129;01mnot\u001b[39;00m \u001b[38;5;28;43mself\u001b[39;49m\u001b[38;5;241;43m.\u001b[39;49m\u001b[43m_poll\u001b[49m\u001b[43m(\u001b[49m\u001b[43mtimeout\u001b[49m\u001b[43m)\u001b[49m:\n\u001b[1;32m    108\u001b[0m         \u001b[38;5;28;01mraise\u001b[39;00m Empty\n\u001b[1;32m    109\u001b[0m \u001b[38;5;28;01melif\u001b[39;00m \u001b[38;5;129;01mnot\u001b[39;00m \u001b[38;5;28mself\u001b[39m\u001b[38;5;241m.\u001b[39m_poll():\n",
      "File \u001b[0;32m/comp_robot/yangyuqin/Anaconda3/envs/deepl2/lib/python3.8/multiprocessing/connection.py:257\u001b[0m, in \u001b[0;36m_ConnectionBase.poll\u001b[0;34m(self, timeout)\u001b[0m\n\u001b[1;32m    255\u001b[0m \u001b[38;5;28mself\u001b[39m\u001b[38;5;241m.\u001b[39m_check_closed()\n\u001b[1;32m    256\u001b[0m \u001b[38;5;28mself\u001b[39m\u001b[38;5;241m.\u001b[39m_check_readable()\n\u001b[0;32m--> 257\u001b[0m \u001b[38;5;28;01mreturn\u001b[39;00m \u001b[38;5;28;43mself\u001b[39;49m\u001b[38;5;241;43m.\u001b[39;49m\u001b[43m_poll\u001b[49m\u001b[43m(\u001b[49m\u001b[43mtimeout\u001b[49m\u001b[43m)\u001b[49m\n",
      "File \u001b[0;32m/comp_robot/yangyuqin/Anaconda3/envs/deepl2/lib/python3.8/multiprocessing/connection.py:424\u001b[0m, in \u001b[0;36mConnection._poll\u001b[0;34m(self, timeout)\u001b[0m\n\u001b[1;32m    423\u001b[0m \u001b[38;5;28;01mdef\u001b[39;00m \u001b[38;5;21m_poll\u001b[39m(\u001b[38;5;28mself\u001b[39m, timeout):\n\u001b[0;32m--> 424\u001b[0m     r \u001b[38;5;241m=\u001b[39m \u001b[43mwait\u001b[49m\u001b[43m(\u001b[49m\u001b[43m[\u001b[49m\u001b[38;5;28;43mself\u001b[39;49m\u001b[43m]\u001b[49m\u001b[43m,\u001b[49m\u001b[43m \u001b[49m\u001b[43mtimeout\u001b[49m\u001b[43m)\u001b[49m\n\u001b[1;32m    425\u001b[0m     \u001b[38;5;28;01mreturn\u001b[39;00m \u001b[38;5;28mbool\u001b[39m(r)\n",
      "File \u001b[0;32m/comp_robot/yangyuqin/Anaconda3/envs/deepl2/lib/python3.8/multiprocessing/connection.py:931\u001b[0m, in \u001b[0;36mwait\u001b[0;34m(object_list, timeout)\u001b[0m\n\u001b[1;32m    928\u001b[0m     deadline \u001b[38;5;241m=\u001b[39m time\u001b[38;5;241m.\u001b[39mmonotonic() \u001b[38;5;241m+\u001b[39m timeout\n\u001b[1;32m    930\u001b[0m \u001b[38;5;28;01mwhile\u001b[39;00m \u001b[38;5;28;01mTrue\u001b[39;00m:\n\u001b[0;32m--> 931\u001b[0m     ready \u001b[38;5;241m=\u001b[39m \u001b[43mselector\u001b[49m\u001b[38;5;241;43m.\u001b[39;49m\u001b[43mselect\u001b[49m\u001b[43m(\u001b[49m\u001b[43mtimeout\u001b[49m\u001b[43m)\u001b[49m\n\u001b[1;32m    932\u001b[0m     \u001b[38;5;28;01mif\u001b[39;00m ready:\n\u001b[1;32m    933\u001b[0m         \u001b[38;5;28;01mreturn\u001b[39;00m [key\u001b[38;5;241m.\u001b[39mfileobj \u001b[38;5;28;01mfor\u001b[39;00m (key, events) \u001b[38;5;129;01min\u001b[39;00m ready]\n",
      "File \u001b[0;32m/comp_robot/yangyuqin/Anaconda3/envs/deepl2/lib/python3.8/selectors.py:415\u001b[0m, in \u001b[0;36m_PollLikeSelector.select\u001b[0;34m(self, timeout)\u001b[0m\n\u001b[1;32m    413\u001b[0m ready \u001b[38;5;241m=\u001b[39m []\n\u001b[1;32m    414\u001b[0m \u001b[38;5;28;01mtry\u001b[39;00m:\n\u001b[0;32m--> 415\u001b[0m     fd_event_list \u001b[38;5;241m=\u001b[39m \u001b[38;5;28;43mself\u001b[39;49m\u001b[38;5;241;43m.\u001b[39;49m\u001b[43m_selector\u001b[49m\u001b[38;5;241;43m.\u001b[39;49m\u001b[43mpoll\u001b[49m\u001b[43m(\u001b[49m\u001b[43mtimeout\u001b[49m\u001b[43m)\u001b[49m\n\u001b[1;32m    416\u001b[0m \u001b[38;5;28;01mexcept\u001b[39;00m \u001b[38;5;167;01mInterruptedError\u001b[39;00m:\n\u001b[1;32m    417\u001b[0m     \u001b[38;5;28;01mreturn\u001b[39;00m ready\n",
      "\u001b[0;31mKeyboardInterrupt\u001b[0m: "
     ]
    }
   ],
   "source": [
    "# 开始训练\n",
    "num_epochs = 10\n",
    "for epoch in range(num_epochs):\n",
    "    print(f\"Epoch {epoch+1}/{num_epochs}:\")\n",
    "    train(model, train_loader, criterion, optimizer, device)\n",
    "    test(model, test_loader, criterion, device)"
   ]
  },
  {
   "cell_type": "code",
   "execution_count": 21,
   "metadata": {},
   "outputs": [],
   "source": [
    "model_path = \"/comp_robot/yangyuqin/workplace/startup/result/spider_img/model/model_20240911.pth\"\n",
    "torch.save(model.state_dict(), model_path)"
   ]
  },
  {
   "cell_type": "code",
   "execution_count": 2,
   "metadata": {},
   "outputs": [
    {
     "ename": "RuntimeError",
     "evalue": "Error(s) in loading state_dict for ResNet:\n\tsize mismatch for fc.weight: copying a param with shape torch.Size([2, 512]) from checkpoint, the shape in current model is torch.Size([1000, 512]).\n\tsize mismatch for fc.bias: copying a param with shape torch.Size([2]) from checkpoint, the shape in current model is torch.Size([1000]).",
     "output_type": "error",
     "traceback": [
      "\u001b[0;31m---------------------------------------------------------------------------\u001b[0m",
      "\u001b[0;31mRuntimeError\u001b[0m                              Traceback (most recent call last)",
      "Input \u001b[0;32mIn [2]\u001b[0m, in \u001b[0;36m<cell line: 9>\u001b[0;34m()\u001b[0m\n\u001b[1;32m      7\u001b[0m model \u001b[38;5;241m=\u001b[39m models\u001b[38;5;241m.\u001b[39mresnet18(pretrained\u001b[38;5;241m=\u001b[39m\u001b[38;5;28;01mTrue\u001b[39;00m)\n\u001b[1;32m      8\u001b[0m model_path \u001b[38;5;241m=\u001b[39m \u001b[38;5;124m\"\u001b[39m\u001b[38;5;124m/comp_robot/yangyuqin/workplace/startup/result/spider_img/model/model_20240911.pth\u001b[39m\u001b[38;5;124m\"\u001b[39m\n\u001b[0;32m----> 9\u001b[0m \u001b[43mmodel\u001b[49m\u001b[38;5;241;43m.\u001b[39;49m\u001b[43mload_state_dict\u001b[49m\u001b[43m(\u001b[49m\u001b[43mtorch\u001b[49m\u001b[38;5;241;43m.\u001b[39;49m\u001b[43mload\u001b[49m\u001b[43m(\u001b[49m\u001b[43mmodel_path\u001b[49m\u001b[43m)\u001b[49m\u001b[43m)\u001b[49m\n\u001b[1;32m     10\u001b[0m model\u001b[38;5;241m.\u001b[39meval()  \u001b[38;5;66;03m# 切换为评估模式\u001b[39;00m\n",
      "File \u001b[0;32m/comp_robot/yangyuqin/Anaconda3/envs/deepl2/lib/python3.8/site-packages/torch/nn/modules/module.py:1051\u001b[0m, in \u001b[0;36mModule.load_state_dict\u001b[0;34m(self, state_dict, strict)\u001b[0m\n\u001b[1;32m   1046\u001b[0m         error_msgs\u001b[38;5;241m.\u001b[39minsert(\n\u001b[1;32m   1047\u001b[0m             \u001b[38;5;241m0\u001b[39m, \u001b[38;5;124m'\u001b[39m\u001b[38;5;124mMissing key(s) in state_dict: \u001b[39m\u001b[38;5;132;01m{}\u001b[39;00m\u001b[38;5;124m. \u001b[39m\u001b[38;5;124m'\u001b[39m\u001b[38;5;241m.\u001b[39mformat(\n\u001b[1;32m   1048\u001b[0m                 \u001b[38;5;124m'\u001b[39m\u001b[38;5;124m, \u001b[39m\u001b[38;5;124m'\u001b[39m\u001b[38;5;241m.\u001b[39mjoin(\u001b[38;5;124m'\u001b[39m\u001b[38;5;124m\"\u001b[39m\u001b[38;5;132;01m{}\u001b[39;00m\u001b[38;5;124m\"\u001b[39m\u001b[38;5;124m'\u001b[39m\u001b[38;5;241m.\u001b[39mformat(k) \u001b[38;5;28;01mfor\u001b[39;00m k \u001b[38;5;129;01min\u001b[39;00m missing_keys)))\n\u001b[1;32m   1050\u001b[0m \u001b[38;5;28;01mif\u001b[39;00m \u001b[38;5;28mlen\u001b[39m(error_msgs) \u001b[38;5;241m>\u001b[39m \u001b[38;5;241m0\u001b[39m:\n\u001b[0;32m-> 1051\u001b[0m     \u001b[38;5;28;01mraise\u001b[39;00m \u001b[38;5;167;01mRuntimeError\u001b[39;00m(\u001b[38;5;124m'\u001b[39m\u001b[38;5;124mError(s) in loading state_dict for \u001b[39m\u001b[38;5;132;01m{}\u001b[39;00m\u001b[38;5;124m:\u001b[39m\u001b[38;5;130;01m\\n\u001b[39;00m\u001b[38;5;130;01m\\t\u001b[39;00m\u001b[38;5;132;01m{}\u001b[39;00m\u001b[38;5;124m'\u001b[39m\u001b[38;5;241m.\u001b[39mformat(\n\u001b[1;32m   1052\u001b[0m                        \u001b[38;5;28mself\u001b[39m\u001b[38;5;241m.\u001b[39m\u001b[38;5;18m__class__\u001b[39m\u001b[38;5;241m.\u001b[39m\u001b[38;5;18m__name__\u001b[39m, \u001b[38;5;124m\"\u001b[39m\u001b[38;5;130;01m\\n\u001b[39;00m\u001b[38;5;130;01m\\t\u001b[39;00m\u001b[38;5;124m\"\u001b[39m\u001b[38;5;241m.\u001b[39mjoin(error_msgs)))\n\u001b[1;32m   1053\u001b[0m \u001b[38;5;28;01mreturn\u001b[39;00m _IncompatibleKeys(missing_keys, unexpected_keys)\n",
      "\u001b[0;31mRuntimeError\u001b[0m: Error(s) in loading state_dict for ResNet:\n\tsize mismatch for fc.weight: copying a param with shape torch.Size([2, 512]) from checkpoint, the shape in current model is torch.Size([1000, 512]).\n\tsize mismatch for fc.bias: copying a param with shape torch.Size([2]) from checkpoint, the shape in current model is torch.Size([1000])."
     ]
    }
   ],
   "source": [
    "import torch\n",
    "import torch.nn as nn\n",
    "import torch.optim as optim\n",
    "from torchvision import models\n",
    "\n",
    "# 重新创建模型结构\n",
    "model = models.resnet18(pretrained=True)\n",
    "model_path = \"/comp_robot/yangyuqin/workplace/startup/result/spider_img/model/model_20240911.pth\"\n",
    "model.load_state_dict(torch.load(model_path))\n",
    "model.eval()  # 切换为评估模式"
   ]
  },
  {
   "cell_type": "code",
   "execution_count": null,
   "metadata": {},
   "outputs": [],
   "source": []
  },
  {
   "cell_type": "code",
   "execution_count": 20,
   "metadata": {},
   "outputs": [
    {
     "ename": "ImportError",
     "evalue": "cannot import name 'murmurhash3_32' from 'sklearn.utils.murmurhash' (unknown location)",
     "output_type": "error",
     "traceback": [
      "\u001b[0;31m---------------------------------------------------------------------------\u001b[0m",
      "\u001b[0;31mImportError\u001b[0m                               Traceback (most recent call last)",
      "Input \u001b[0;32mIn [20]\u001b[0m, in \u001b[0;36m<cell line: 5>\u001b[0;34m()\u001b[0m\n\u001b[1;32m      3\u001b[0m \u001b[38;5;28;01mimport\u001b[39;00m \u001b[38;5;21;01mmatplotlib\u001b[39;00m\u001b[38;5;21;01m.\u001b[39;00m\u001b[38;5;21;01mpyplot\u001b[39;00m \u001b[38;5;28;01mas\u001b[39;00m \u001b[38;5;21;01mplt\u001b[39;00m\n\u001b[1;32m      4\u001b[0m \u001b[38;5;28;01mimport\u001b[39;00m \u001b[38;5;21;01mseaborn\u001b[39;00m \u001b[38;5;28;01mas\u001b[39;00m \u001b[38;5;21;01msns\u001b[39;00m\n\u001b[0;32m----> 5\u001b[0m \u001b[38;5;28;01mfrom\u001b[39;00m \u001b[38;5;21;01msklearn\u001b[39;00m\u001b[38;5;21;01m.\u001b[39;00m\u001b[38;5;21;01mmetrics\u001b[39;00m \u001b[38;5;28;01mimport\u001b[39;00m confusion_matrix, classification_report, recall_score\n\u001b[1;32m      7\u001b[0m \u001b[38;5;66;03m# 模型预测函数\u001b[39;00m\n\u001b[1;32m      8\u001b[0m \u001b[38;5;28;01mdef\u001b[39;00m \u001b[38;5;21mget_predictions\u001b[39m(model, data_loader, device):\n",
      "File \u001b[0;32m/comp_robot/yangyuqin/Anaconda3/envs/deepl2/lib/python3.8/site-packages/sklearn/__init__.py:82\u001b[0m, in \u001b[0;36m<module>\u001b[0;34m\u001b[0m\n\u001b[1;32m     80\u001b[0m \u001b[38;5;28;01mfrom\u001b[39;00m \u001b[38;5;21;01m.\u001b[39;00m \u001b[38;5;28;01mimport\u001b[39;00m _distributor_init  \u001b[38;5;66;03m# noqa: F401\u001b[39;00m\n\u001b[1;32m     81\u001b[0m \u001b[38;5;28;01mfrom\u001b[39;00m \u001b[38;5;21;01m.\u001b[39;00m \u001b[38;5;28;01mimport\u001b[39;00m __check_build  \u001b[38;5;66;03m# noqa: F401\u001b[39;00m\n\u001b[0;32m---> 82\u001b[0m \u001b[38;5;28;01mfrom\u001b[39;00m \u001b[38;5;21;01m.\u001b[39;00m\u001b[38;5;21;01mbase\u001b[39;00m \u001b[38;5;28;01mimport\u001b[39;00m clone\n\u001b[1;32m     83\u001b[0m \u001b[38;5;28;01mfrom\u001b[39;00m \u001b[38;5;21;01m.\u001b[39;00m\u001b[38;5;21;01mutils\u001b[39;00m\u001b[38;5;21;01m.\u001b[39;00m\u001b[38;5;21;01m_show_versions\u001b[39;00m \u001b[38;5;28;01mimport\u001b[39;00m show_versions\n\u001b[1;32m     85\u001b[0m __all__ \u001b[38;5;241m=\u001b[39m [\u001b[38;5;124m'\u001b[39m\u001b[38;5;124mcalibration\u001b[39m\u001b[38;5;124m'\u001b[39m, \u001b[38;5;124m'\u001b[39m\u001b[38;5;124mcluster\u001b[39m\u001b[38;5;124m'\u001b[39m, \u001b[38;5;124m'\u001b[39m\u001b[38;5;124mcovariance\u001b[39m\u001b[38;5;124m'\u001b[39m, \u001b[38;5;124m'\u001b[39m\u001b[38;5;124mcross_decomposition\u001b[39m\u001b[38;5;124m'\u001b[39m,\n\u001b[1;32m     86\u001b[0m            \u001b[38;5;124m'\u001b[39m\u001b[38;5;124mdatasets\u001b[39m\u001b[38;5;124m'\u001b[39m, \u001b[38;5;124m'\u001b[39m\u001b[38;5;124mdecomposition\u001b[39m\u001b[38;5;124m'\u001b[39m, \u001b[38;5;124m'\u001b[39m\u001b[38;5;124mdummy\u001b[39m\u001b[38;5;124m'\u001b[39m, \u001b[38;5;124m'\u001b[39m\u001b[38;5;124mensemble\u001b[39m\u001b[38;5;124m'\u001b[39m, \u001b[38;5;124m'\u001b[39m\u001b[38;5;124mexceptions\u001b[39m\u001b[38;5;124m'\u001b[39m,\n\u001b[1;32m     87\u001b[0m            \u001b[38;5;124m'\u001b[39m\u001b[38;5;124mexperimental\u001b[39m\u001b[38;5;124m'\u001b[39m, \u001b[38;5;124m'\u001b[39m\u001b[38;5;124mexternals\u001b[39m\u001b[38;5;124m'\u001b[39m, \u001b[38;5;124m'\u001b[39m\u001b[38;5;124mfeature_extraction\u001b[39m\u001b[38;5;124m'\u001b[39m,\n\u001b[0;32m   (...)\u001b[0m\n\u001b[1;32m     96\u001b[0m            \u001b[38;5;124m'\u001b[39m\u001b[38;5;124mclone\u001b[39m\u001b[38;5;124m'\u001b[39m, \u001b[38;5;124m'\u001b[39m\u001b[38;5;124mget_config\u001b[39m\u001b[38;5;124m'\u001b[39m, \u001b[38;5;124m'\u001b[39m\u001b[38;5;124mset_config\u001b[39m\u001b[38;5;124m'\u001b[39m, \u001b[38;5;124m'\u001b[39m\u001b[38;5;124mconfig_context\u001b[39m\u001b[38;5;124m'\u001b[39m,\n\u001b[1;32m     97\u001b[0m            \u001b[38;5;124m'\u001b[39m\u001b[38;5;124mshow_versions\u001b[39m\u001b[38;5;124m'\u001b[39m]\n",
      "File \u001b[0;32m/comp_robot/yangyuqin/Anaconda3/envs/deepl2/lib/python3.8/site-packages/sklearn/base.py:17\u001b[0m, in \u001b[0;36m<module>\u001b[0;34m\u001b[0m\n\u001b[1;32m     15\u001b[0m \u001b[38;5;28;01mfrom\u001b[39;00m \u001b[38;5;21;01m.\u001b[39;00m \u001b[38;5;28;01mimport\u001b[39;00m __version__\n\u001b[1;32m     16\u001b[0m \u001b[38;5;28;01mfrom\u001b[39;00m \u001b[38;5;21;01m.\u001b[39;00m\u001b[38;5;21;01m_config\u001b[39;00m \u001b[38;5;28;01mimport\u001b[39;00m get_config\n\u001b[0;32m---> 17\u001b[0m \u001b[38;5;28;01mfrom\u001b[39;00m \u001b[38;5;21;01m.\u001b[39;00m\u001b[38;5;21;01mutils\u001b[39;00m \u001b[38;5;28;01mimport\u001b[39;00m _IS_32BIT\n\u001b[1;32m     18\u001b[0m \u001b[38;5;28;01mfrom\u001b[39;00m \u001b[38;5;21;01m.\u001b[39;00m\u001b[38;5;21;01mutils\u001b[39;00m\u001b[38;5;21;01m.\u001b[39;00m\u001b[38;5;21;01m_tags\u001b[39;00m \u001b[38;5;28;01mimport\u001b[39;00m (\n\u001b[1;32m     19\u001b[0m     _DEFAULT_TAGS,\n\u001b[1;32m     20\u001b[0m     _safe_tags,\n\u001b[1;32m     21\u001b[0m )\n\u001b[1;32m     22\u001b[0m \u001b[38;5;28;01mfrom\u001b[39;00m \u001b[38;5;21;01m.\u001b[39;00m\u001b[38;5;21;01mutils\u001b[39;00m\u001b[38;5;21;01m.\u001b[39;00m\u001b[38;5;21;01mvalidation\u001b[39;00m \u001b[38;5;28;01mimport\u001b[39;00m check_X_y\n",
      "File \u001b[0;32m/comp_robot/yangyuqin/Anaconda3/envs/deepl2/lib/python3.8/site-packages/sklearn/utils/__init__.py:22\u001b[0m, in \u001b[0;36m<module>\u001b[0;34m\u001b[0m\n\u001b[1;32m     19\u001b[0m \u001b[38;5;28;01mimport\u001b[39;00m \u001b[38;5;21;01mnumpy\u001b[39;00m \u001b[38;5;28;01mas\u001b[39;00m \u001b[38;5;21;01mnp\u001b[39;00m\n\u001b[1;32m     20\u001b[0m \u001b[38;5;28;01mfrom\u001b[39;00m \u001b[38;5;21;01mscipy\u001b[39;00m\u001b[38;5;21;01m.\u001b[39;00m\u001b[38;5;21;01msparse\u001b[39;00m \u001b[38;5;28;01mimport\u001b[39;00m issparse\n\u001b[0;32m---> 22\u001b[0m \u001b[38;5;28;01mfrom\u001b[39;00m \u001b[38;5;21;01m.\u001b[39;00m\u001b[38;5;21;01mmurmurhash\u001b[39;00m \u001b[38;5;28;01mimport\u001b[39;00m murmurhash3_32\n\u001b[1;32m     23\u001b[0m \u001b[38;5;28;01mfrom\u001b[39;00m \u001b[38;5;21;01m.\u001b[39;00m\u001b[38;5;21;01mclass_weight\u001b[39;00m \u001b[38;5;28;01mimport\u001b[39;00m compute_class_weight, compute_sample_weight\n\u001b[1;32m     24\u001b[0m \u001b[38;5;28;01mfrom\u001b[39;00m \u001b[38;5;21;01m.\u001b[39;00m \u001b[38;5;28;01mimport\u001b[39;00m _joblib\n",
      "\u001b[0;31mImportError\u001b[0m: cannot import name 'murmurhash3_32' from 'sklearn.utils.murmurhash' (unknown location)"
     ]
    }
   ],
   "source": [
    "import torch\n",
    "import numpy as np\n",
    "import matplotlib.pyplot as plt\n",
    "import seaborn as sns\n",
    "from sklearn.metrics import confusion_matrix, classification_report, recall_score\n",
    "\n",
    "# 模型预测函数\n",
    "def get_predictions(model, data_loader, device):\n",
    "    model.eval()\n",
    "    all_preds = []\n",
    "    all_labels = []\n",
    "    \n",
    "    with torch.no_grad():\n",
    "        for images, labels in data_loader:\n",
    "            images, labels = images.to(device), labels.to(device)\n",
    "            \n",
    "            # 模型前向传播\n",
    "            outputs = model(images)\n",
    "            _, predicted = outputs.max(1)\n",
    "            \n",
    "            all_preds.extend(predicted.cpu().numpy())\n",
    "            all_labels.extend(labels.cpu().numpy())\n",
    "    \n",
    "    return np.array(all_preds), np.array(all_labels)\n",
    "\n",
    "# 计算召回率和混淆矩阵\n",
    "def evaluate_model(model, data_loader, device, class_names):\n",
    "    # 获取预测值和真实标签\n",
    "    preds, labels = get_predictions(model, data_loader, device)\n",
    "    \n",
    "    # 打印分类报告，包含每个类别的precision, recall, f1-score\n",
    "    print(\"Classification Report:\")\n",
    "    print(classification_report(labels, preds, target_names=class_names))\n",
    "    \n",
    "    # 计算混淆矩阵\n",
    "    conf_matrix = confusion_matrix(labels, preds)\n",
    "    \n",
    "    # 绘制混淆矩阵\n",
    "    plt.figure(figsize=(10, 7))\n",
    "    sns.heatmap(conf_matrix, annot=True, fmt=\"d\", cmap=\"Blues\", xticklabels=class_names, yticklabels=class_names)\n",
    "    plt.xlabel('Predicted')\n",
    "    plt.ylabel('True')\n",
    "    plt.title('Confusion Matrix')\n",
    "    plt.show()\n",
    "\n",
    "\n"
   ]
  },
  {
   "cell_type": "code",
   "execution_count": null,
   "metadata": {},
   "outputs": [],
   "source": [
    "# 假设你有类别名称列表\n",
    "class_names = ['Unqualified', 'Qualified']  # 替换为你的实际类别名称\n",
    "\n",
    "# 假设你已经有一个data_loader和训练好的model\n",
    "device = torch.device('cuda' if torch.cuda.is_available() else 'cpu')\n",
    "\n",
    "# 调用评估函数\n",
    "evaluate_model(model, test_loader, device, class_names)"
   ]
  }
 ],
 "metadata": {
  "kernelspec": {
   "display_name": "deepl",
   "language": "python",
   "name": "python3"
  },
  "language_info": {
   "codemirror_mode": {
    "name": "ipython",
    "version": 3
   },
   "file_extension": ".py",
   "mimetype": "text/x-python",
   "name": "python",
   "nbconvert_exporter": "python",
   "pygments_lexer": "ipython3",
   "version": "3.8.18"
  }
 },
 "nbformat": 4,
 "nbformat_minor": 2
}
